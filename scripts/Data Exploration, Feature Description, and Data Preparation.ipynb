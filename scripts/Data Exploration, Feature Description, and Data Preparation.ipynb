{
 "cells": [
  {
   "cell_type": "markdown",
   "id": "a26322a5",
   "metadata": {},
   "source": [
    "## Dependencies"
   ]
  },
  {
   "cell_type": "code",
   "execution_count": 1,
   "id": "a611ddba",
   "metadata": {},
   "outputs": [],
   "source": [
    "import itertools\n",
    "import os\n",
    "import pickle\n",
    "import sys\n",
    "import seaborn as sns\n",
    "import pandas as pd\n",
    "import matplotlib.pyplot as plt\n",
    "from dotenv import load_dotenv"
   ]
  },
  {
   "cell_type": "markdown",
   "id": "c927998d",
   "metadata": {},
   "source": [
    "Configure environment variable"
   ]
  },
  {
   "cell_type": "code",
   "execution_count": 2,
   "id": "5c631283",
   "metadata": {},
   "outputs": [],
   "source": [
    "# take environment variables from .env.  \n",
    "load_dotenv()\n",
    "\n",
    "# changing current directory to read dataset\n",
    "os.chdir(os.getenv(\"DATASET_PATH\"))"
   ]
  },
  {
   "cell_type": "markdown",
   "id": "0dc8df76",
   "metadata": {},
   "source": [
    "Setting max columns and rows"
   ]
  },
  {
   "cell_type": "code",
   "execution_count": 3,
   "id": "40b3ad11",
   "metadata": {},
   "outputs": [],
   "source": [
    "pd.set_option('display.max_columns', None)\n",
    "pd.set_option(\"max_rows\", None)"
   ]
  },
  {
   "cell_type": "markdown",
   "id": "46d9d459",
   "metadata": {},
   "source": [
    "Reading CSV files"
   ]
  },
  {
   "cell_type": "code",
   "execution_count": 4,
   "id": "8070a678",
   "metadata": {},
   "outputs": [],
   "source": [
    "data = pd.read_csv('data.csv')\n",
    "data_w_genre = pd.read_csv('data_w_genres.csv')\n",
    "data_genre = pd.read_csv('data_by_genres.csv')"
   ]
  },
  {
   "cell_type": "markdown",
   "id": "d6cdb3a2",
   "metadata": {},
   "source": [
    "Displaying the first 5 rows of each dataset"
   ]
  },
  {
   "cell_type": "code",
   "execution_count": 5,
   "id": "7445e8fb",
   "metadata": {},
   "outputs": [
    {
     "data": {
      "text/html": [
       "<div>\n",
       "<style scoped>\n",
       "    .dataframe tbody tr th:only-of-type {\n",
       "        vertical-align: middle;\n",
       "    }\n",
       "\n",
       "    .dataframe tbody tr th {\n",
       "        vertical-align: top;\n",
       "    }\n",
       "\n",
       "    .dataframe thead th {\n",
       "        text-align: right;\n",
       "    }\n",
       "</style>\n",
       "<table border=\"1\" class=\"dataframe\">\n",
       "  <thead>\n",
       "    <tr style=\"text-align: right;\">\n",
       "      <th></th>\n",
       "      <th>valence</th>\n",
       "      <th>year</th>\n",
       "      <th>acousticness</th>\n",
       "      <th>artists</th>\n",
       "      <th>danceability</th>\n",
       "      <th>duration_ms</th>\n",
       "      <th>energy</th>\n",
       "      <th>explicit</th>\n",
       "      <th>id</th>\n",
       "      <th>instrumentalness</th>\n",
       "      <th>key</th>\n",
       "      <th>liveness</th>\n",
       "      <th>loudness</th>\n",
       "      <th>mode</th>\n",
       "      <th>name</th>\n",
       "      <th>popularity</th>\n",
       "      <th>release_date</th>\n",
       "      <th>speechiness</th>\n",
       "      <th>tempo</th>\n",
       "    </tr>\n",
       "  </thead>\n",
       "  <tbody>\n",
       "    <tr>\n",
       "      <th>0</th>\n",
       "      <td>0.0594</td>\n",
       "      <td>1921</td>\n",
       "      <td>0.982</td>\n",
       "      <td>['Sergei Rachmaninoff', 'James Levine', 'Berli...</td>\n",
       "      <td>0.279</td>\n",
       "      <td>831667</td>\n",
       "      <td>0.211</td>\n",
       "      <td>0</td>\n",
       "      <td>4BJqT0PrAfrxzMOxytFOIz</td>\n",
       "      <td>0.878000</td>\n",
       "      <td>10</td>\n",
       "      <td>0.665</td>\n",
       "      <td>-20.096</td>\n",
       "      <td>1</td>\n",
       "      <td>Piano Concerto No. 3 in D Minor, Op. 30: III. ...</td>\n",
       "      <td>4</td>\n",
       "      <td>1921</td>\n",
       "      <td>0.0366</td>\n",
       "      <td>80.954</td>\n",
       "    </tr>\n",
       "    <tr>\n",
       "      <th>1</th>\n",
       "      <td>0.9630</td>\n",
       "      <td>1921</td>\n",
       "      <td>0.732</td>\n",
       "      <td>['Dennis Day']</td>\n",
       "      <td>0.819</td>\n",
       "      <td>180533</td>\n",
       "      <td>0.341</td>\n",
       "      <td>0</td>\n",
       "      <td>7xPhfUan2yNtyFG0cUWkt8</td>\n",
       "      <td>0.000000</td>\n",
       "      <td>7</td>\n",
       "      <td>0.160</td>\n",
       "      <td>-12.441</td>\n",
       "      <td>1</td>\n",
       "      <td>Clancy Lowered the Boom</td>\n",
       "      <td>5</td>\n",
       "      <td>1921</td>\n",
       "      <td>0.4150</td>\n",
       "      <td>60.936</td>\n",
       "    </tr>\n",
       "    <tr>\n",
       "      <th>2</th>\n",
       "      <td>0.0394</td>\n",
       "      <td>1921</td>\n",
       "      <td>0.961</td>\n",
       "      <td>['KHP Kridhamardawa Karaton Ngayogyakarta Hadi...</td>\n",
       "      <td>0.328</td>\n",
       "      <td>500062</td>\n",
       "      <td>0.166</td>\n",
       "      <td>0</td>\n",
       "      <td>1o6I8BglA6ylDMrIELygv1</td>\n",
       "      <td>0.913000</td>\n",
       "      <td>3</td>\n",
       "      <td>0.101</td>\n",
       "      <td>-14.850</td>\n",
       "      <td>1</td>\n",
       "      <td>Gati Bali</td>\n",
       "      <td>5</td>\n",
       "      <td>1921</td>\n",
       "      <td>0.0339</td>\n",
       "      <td>110.339</td>\n",
       "    </tr>\n",
       "    <tr>\n",
       "      <th>3</th>\n",
       "      <td>0.1650</td>\n",
       "      <td>1921</td>\n",
       "      <td>0.967</td>\n",
       "      <td>['Frank Parker']</td>\n",
       "      <td>0.275</td>\n",
       "      <td>210000</td>\n",
       "      <td>0.309</td>\n",
       "      <td>0</td>\n",
       "      <td>3ftBPsC5vPBKxYSee08FDH</td>\n",
       "      <td>0.000028</td>\n",
       "      <td>5</td>\n",
       "      <td>0.381</td>\n",
       "      <td>-9.316</td>\n",
       "      <td>1</td>\n",
       "      <td>Danny Boy</td>\n",
       "      <td>3</td>\n",
       "      <td>1921</td>\n",
       "      <td>0.0354</td>\n",
       "      <td>100.109</td>\n",
       "    </tr>\n",
       "    <tr>\n",
       "      <th>4</th>\n",
       "      <td>0.2530</td>\n",
       "      <td>1921</td>\n",
       "      <td>0.957</td>\n",
       "      <td>['Phil Regan']</td>\n",
       "      <td>0.418</td>\n",
       "      <td>166693</td>\n",
       "      <td>0.193</td>\n",
       "      <td>0</td>\n",
       "      <td>4d6HGyGT8e121BsdKmw9v6</td>\n",
       "      <td>0.000002</td>\n",
       "      <td>3</td>\n",
       "      <td>0.229</td>\n",
       "      <td>-10.096</td>\n",
       "      <td>1</td>\n",
       "      <td>When Irish Eyes Are Smiling</td>\n",
       "      <td>2</td>\n",
       "      <td>1921</td>\n",
       "      <td>0.0380</td>\n",
       "      <td>101.665</td>\n",
       "    </tr>\n",
       "  </tbody>\n",
       "</table>\n",
       "</div>"
      ],
      "text/plain": [
       "   valence  year  acousticness  \\\n",
       "0   0.0594  1921         0.982   \n",
       "1   0.9630  1921         0.732   \n",
       "2   0.0394  1921         0.961   \n",
       "3   0.1650  1921         0.967   \n",
       "4   0.2530  1921         0.957   \n",
       "\n",
       "                                             artists  danceability  \\\n",
       "0  ['Sergei Rachmaninoff', 'James Levine', 'Berli...         0.279   \n",
       "1                                     ['Dennis Day']         0.819   \n",
       "2  ['KHP Kridhamardawa Karaton Ngayogyakarta Hadi...         0.328   \n",
       "3                                   ['Frank Parker']         0.275   \n",
       "4                                     ['Phil Regan']         0.418   \n",
       "\n",
       "   duration_ms  energy  explicit                      id  instrumentalness  \\\n",
       "0       831667   0.211         0  4BJqT0PrAfrxzMOxytFOIz          0.878000   \n",
       "1       180533   0.341         0  7xPhfUan2yNtyFG0cUWkt8          0.000000   \n",
       "2       500062   0.166         0  1o6I8BglA6ylDMrIELygv1          0.913000   \n",
       "3       210000   0.309         0  3ftBPsC5vPBKxYSee08FDH          0.000028   \n",
       "4       166693   0.193         0  4d6HGyGT8e121BsdKmw9v6          0.000002   \n",
       "\n",
       "   key  liveness  loudness  mode  \\\n",
       "0   10     0.665   -20.096     1   \n",
       "1    7     0.160   -12.441     1   \n",
       "2    3     0.101   -14.850     1   \n",
       "3    5     0.381    -9.316     1   \n",
       "4    3     0.229   -10.096     1   \n",
       "\n",
       "                                                name  popularity release_date  \\\n",
       "0  Piano Concerto No. 3 in D Minor, Op. 30: III. ...           4         1921   \n",
       "1                            Clancy Lowered the Boom           5         1921   \n",
       "2                                          Gati Bali           5         1921   \n",
       "3                                          Danny Boy           3         1921   \n",
       "4                        When Irish Eyes Are Smiling           2         1921   \n",
       "\n",
       "   speechiness    tempo  \n",
       "0       0.0366   80.954  \n",
       "1       0.4150   60.936  \n",
       "2       0.0339  110.339  \n",
       "3       0.0354  100.109  \n",
       "4       0.0380  101.665  "
      ]
     },
     "execution_count": 5,
     "metadata": {},
     "output_type": "execute_result"
    }
   ],
   "source": [
    "data.head()"
   ]
  },
  {
   "cell_type": "code",
   "execution_count": 6,
   "id": "3a82ae3d",
   "metadata": {},
   "outputs": [
    {
     "name": "stdout",
     "output_type": "stream",
     "text": [
      "<class 'pandas.core.frame.DataFrame'>\n",
      "RangeIndex: 170653 entries, 0 to 170652\n",
      "Data columns (total 19 columns):\n",
      " #   Column            Non-Null Count   Dtype  \n",
      "---  ------            --------------   -----  \n",
      " 0   valence           170653 non-null  float64\n",
      " 1   year              170653 non-null  int64  \n",
      " 2   acousticness      170653 non-null  float64\n",
      " 3   artists           170653 non-null  object \n",
      " 4   danceability      170653 non-null  float64\n",
      " 5   duration_ms       170653 non-null  int64  \n",
      " 6   energy            170653 non-null  float64\n",
      " 7   explicit          170653 non-null  int64  \n",
      " 8   id                170653 non-null  object \n",
      " 9   instrumentalness  170653 non-null  float64\n",
      " 10  key               170653 non-null  int64  \n",
      " 11  liveness          170653 non-null  float64\n",
      " 12  loudness          170653 non-null  float64\n",
      " 13  mode              170653 non-null  int64  \n",
      " 14  name              170653 non-null  object \n",
      " 15  popularity        170653 non-null  int64  \n",
      " 16  release_date      170653 non-null  object \n",
      " 17  speechiness       170653 non-null  float64\n",
      " 18  tempo             170653 non-null  float64\n",
      "dtypes: float64(9), int64(6), object(4)\n",
      "memory usage: 24.7+ MB\n"
     ]
    }
   ],
   "source": [
    "# checking the some info on the dataframe\n",
    "data.info()"
   ]
  },
  {
   "cell_type": "code",
   "execution_count": 7,
   "id": "879ae9a7",
   "metadata": {
    "scrolled": false
   },
   "outputs": [
    {
     "data": {
      "text/html": [
       "<div>\n",
       "<style scoped>\n",
       "    .dataframe tbody tr th:only-of-type {\n",
       "        vertical-align: middle;\n",
       "    }\n",
       "\n",
       "    .dataframe tbody tr th {\n",
       "        vertical-align: top;\n",
       "    }\n",
       "\n",
       "    .dataframe thead th {\n",
       "        text-align: right;\n",
       "    }\n",
       "</style>\n",
       "<table border=\"1\" class=\"dataframe\">\n",
       "  <thead>\n",
       "    <tr style=\"text-align: right;\">\n",
       "      <th></th>\n",
       "      <th>genres</th>\n",
       "      <th>artists</th>\n",
       "      <th>acousticness</th>\n",
       "      <th>danceability</th>\n",
       "      <th>duration_ms</th>\n",
       "      <th>energy</th>\n",
       "      <th>instrumentalness</th>\n",
       "      <th>liveness</th>\n",
       "      <th>loudness</th>\n",
       "      <th>speechiness</th>\n",
       "      <th>tempo</th>\n",
       "      <th>valence</th>\n",
       "      <th>popularity</th>\n",
       "      <th>key</th>\n",
       "      <th>mode</th>\n",
       "      <th>count</th>\n",
       "    </tr>\n",
       "  </thead>\n",
       "  <tbody>\n",
       "    <tr>\n",
       "      <th>0</th>\n",
       "      <td>['show tunes']</td>\n",
       "      <td>\"Cats\" 1981 Original London Cast</td>\n",
       "      <td>0.590111</td>\n",
       "      <td>0.467222</td>\n",
       "      <td>250318.555556</td>\n",
       "      <td>0.394003</td>\n",
       "      <td>0.011400</td>\n",
       "      <td>0.290833</td>\n",
       "      <td>-14.448000</td>\n",
       "      <td>0.210389</td>\n",
       "      <td>117.518111</td>\n",
       "      <td>0.389500</td>\n",
       "      <td>38.333333</td>\n",
       "      <td>5</td>\n",
       "      <td>1</td>\n",
       "      <td>9</td>\n",
       "    </tr>\n",
       "    <tr>\n",
       "      <th>1</th>\n",
       "      <td>[]</td>\n",
       "      <td>\"Cats\" 1983 Broadway Cast</td>\n",
       "      <td>0.862538</td>\n",
       "      <td>0.441731</td>\n",
       "      <td>287280.000000</td>\n",
       "      <td>0.406808</td>\n",
       "      <td>0.081158</td>\n",
       "      <td>0.315215</td>\n",
       "      <td>-10.690000</td>\n",
       "      <td>0.176212</td>\n",
       "      <td>103.044154</td>\n",
       "      <td>0.268865</td>\n",
       "      <td>30.576923</td>\n",
       "      <td>5</td>\n",
       "      <td>1</td>\n",
       "      <td>26</td>\n",
       "    </tr>\n",
       "    <tr>\n",
       "      <th>2</th>\n",
       "      <td>[]</td>\n",
       "      <td>\"Fiddler On The Roof” Motion Picture Chorus</td>\n",
       "      <td>0.856571</td>\n",
       "      <td>0.348286</td>\n",
       "      <td>328920.000000</td>\n",
       "      <td>0.286571</td>\n",
       "      <td>0.024593</td>\n",
       "      <td>0.325786</td>\n",
       "      <td>-15.230714</td>\n",
       "      <td>0.118514</td>\n",
       "      <td>77.375857</td>\n",
       "      <td>0.354857</td>\n",
       "      <td>34.857143</td>\n",
       "      <td>0</td>\n",
       "      <td>1</td>\n",
       "      <td>7</td>\n",
       "    </tr>\n",
       "    <tr>\n",
       "      <th>3</th>\n",
       "      <td>[]</td>\n",
       "      <td>\"Fiddler On The Roof” Motion Picture Orchestra</td>\n",
       "      <td>0.884926</td>\n",
       "      <td>0.425074</td>\n",
       "      <td>262890.962963</td>\n",
       "      <td>0.245770</td>\n",
       "      <td>0.073587</td>\n",
       "      <td>0.275481</td>\n",
       "      <td>-15.639370</td>\n",
       "      <td>0.123200</td>\n",
       "      <td>88.667630</td>\n",
       "      <td>0.372030</td>\n",
       "      <td>34.851852</td>\n",
       "      <td>0</td>\n",
       "      <td>1</td>\n",
       "      <td>27</td>\n",
       "    </tr>\n",
       "    <tr>\n",
       "      <th>4</th>\n",
       "      <td>[]</td>\n",
       "      <td>\"Joseph And The Amazing Technicolor Dreamcoat\"...</td>\n",
       "      <td>0.510714</td>\n",
       "      <td>0.467143</td>\n",
       "      <td>270436.142857</td>\n",
       "      <td>0.488286</td>\n",
       "      <td>0.009400</td>\n",
       "      <td>0.195000</td>\n",
       "      <td>-10.236714</td>\n",
       "      <td>0.098543</td>\n",
       "      <td>122.835857</td>\n",
       "      <td>0.482286</td>\n",
       "      <td>43.000000</td>\n",
       "      <td>5</td>\n",
       "      <td>1</td>\n",
       "      <td>7</td>\n",
       "    </tr>\n",
       "  </tbody>\n",
       "</table>\n",
       "</div>"
      ],
      "text/plain": [
       "           genres                                            artists  \\\n",
       "0  ['show tunes']                   \"Cats\" 1981 Original London Cast   \n",
       "1              []                          \"Cats\" 1983 Broadway Cast   \n",
       "2              []        \"Fiddler On The Roof” Motion Picture Chorus   \n",
       "3              []     \"Fiddler On The Roof” Motion Picture Orchestra   \n",
       "4              []  \"Joseph And The Amazing Technicolor Dreamcoat\"...   \n",
       "\n",
       "   acousticness  danceability    duration_ms    energy  instrumentalness  \\\n",
       "0      0.590111      0.467222  250318.555556  0.394003          0.011400   \n",
       "1      0.862538      0.441731  287280.000000  0.406808          0.081158   \n",
       "2      0.856571      0.348286  328920.000000  0.286571          0.024593   \n",
       "3      0.884926      0.425074  262890.962963  0.245770          0.073587   \n",
       "4      0.510714      0.467143  270436.142857  0.488286          0.009400   \n",
       "\n",
       "   liveness   loudness  speechiness       tempo   valence  popularity  key  \\\n",
       "0  0.290833 -14.448000     0.210389  117.518111  0.389500   38.333333    5   \n",
       "1  0.315215 -10.690000     0.176212  103.044154  0.268865   30.576923    5   \n",
       "2  0.325786 -15.230714     0.118514   77.375857  0.354857   34.857143    0   \n",
       "3  0.275481 -15.639370     0.123200   88.667630  0.372030   34.851852    0   \n",
       "4  0.195000 -10.236714     0.098543  122.835857  0.482286   43.000000    5   \n",
       "\n",
       "   mode  count  \n",
       "0     1      9  \n",
       "1     1     26  \n",
       "2     1      7  \n",
       "3     1     27  \n",
       "4     1      7  "
      ]
     },
     "execution_count": 7,
     "metadata": {},
     "output_type": "execute_result"
    }
   ],
   "source": [
    "data_w_genre.head()"
   ]
  },
  {
   "cell_type": "code",
   "execution_count": 8,
   "id": "a8761407",
   "metadata": {},
   "outputs": [
    {
     "name": "stdout",
     "output_type": "stream",
     "text": [
      "<class 'pandas.core.frame.DataFrame'>\n",
      "RangeIndex: 28680 entries, 0 to 28679\n",
      "Data columns (total 16 columns):\n",
      " #   Column            Non-Null Count  Dtype  \n",
      "---  ------            --------------  -----  \n",
      " 0   genres            28680 non-null  object \n",
      " 1   artists           28680 non-null  object \n",
      " 2   acousticness      28680 non-null  float64\n",
      " 3   danceability      28680 non-null  float64\n",
      " 4   duration_ms       28680 non-null  float64\n",
      " 5   energy            28680 non-null  float64\n",
      " 6   instrumentalness  28680 non-null  float64\n",
      " 7   liveness          28680 non-null  float64\n",
      " 8   loudness          28680 non-null  float64\n",
      " 9   speechiness       28680 non-null  float64\n",
      " 10  tempo             28680 non-null  float64\n",
      " 11  valence           28680 non-null  float64\n",
      " 12  popularity        28680 non-null  float64\n",
      " 13  key               28680 non-null  int64  \n",
      " 14  mode              28680 non-null  int64  \n",
      " 15  count             28680 non-null  int64  \n",
      "dtypes: float64(11), int64(3), object(2)\n",
      "memory usage: 3.5+ MB\n"
     ]
    }
   ],
   "source": [
    "# checking the some info on the dataframe\n",
    "data_w_genre.info()"
   ]
  },
  {
   "cell_type": "code",
   "execution_count": 9,
   "id": "22a10360",
   "metadata": {},
   "outputs": [],
   "source": [
    "# creating function to come up with common features \n",
    "def common_features(list_comparison: list[list]) -> list:\n",
    "    result = set(list_comparison[0])\n",
    "    for s in list_comparison[1:]:\n",
    "        result.intersection_update(s)\n",
    "    return list(result)"
   ]
  },
  {
   "cell_type": "code",
   "execution_count": 10,
   "id": "d793e623",
   "metadata": {},
   "outputs": [
    {
     "name": "stdout",
     "output_type": "stream",
     "text": [
      "['acousticness',\n",
      " 'artists',\n",
      " 'danceability',\n",
      " 'duration_ms',\n",
      " 'energy',\n",
      " 'instrumentalness',\n",
      " 'key',\n",
      " 'liveness',\n",
      " 'loudness',\n",
      " 'mode',\n",
      " 'popularity',\n",
      " 'speechiness',\n",
      " 'tempo',\n",
      " 'valence']\n"
     ]
    }
   ],
   "source": [
    "import pprint\n",
    "\n",
    "# creating a list of features for each dataset\n",
    "data_features = list(data.columns)\n",
    "data_w_genre_features = list(data_w_genre.columns)\n",
    "list_comparison = [data_features,data_w_genre_features]\n",
    "\n",
    "# comparing features from each dataset\n",
    "features_common = sorted(common_features(list_comparison))\n",
    "pprint.pprint(features_common)"
   ]
  },
  {
   "cell_type": "code",
   "execution_count": 11,
   "id": "38f9715e",
   "metadata": {},
   "outputs": [
    {
     "name": "stdout",
     "output_type": "stream",
     "text": [
      "['explicit', 'id', 'name', 'release_date', 'year']\n",
      "['count', 'genres']\n",
      "['count', 'explicit', 'genres', 'id', 'name', 'release_date', 'year']\n"
     ]
    }
   ],
   "source": [
    "# creating list of uncommon features\n",
    "data_features_only = [ft for ft in data_features if ft not in features_common] \n",
    "data_w_genre_features_only = [ft for ft in data_w_genre_features if ft not in features_common]\n",
    "\n",
    "# printing features\n",
    "pprint.pprint(sorted(data_features_only))\n",
    "pprint.pprint(sorted(data_w_genre_features_only))\n",
    "total_features = data_features_only + data_w_genre_features_only\n",
    "pprint.pprint(sorted(set(total_features)))"
   ]
  },
  {
   "cell_type": "markdown",
   "id": "31bd0746",
   "metadata": {},
   "source": [
    "## Feature Description"
   ]
  },
  {
   "cell_type": "markdown",
   "id": "8f043972",
   "metadata": {},
   "source": [
    "### **Common Numerical Features**\n",
    "The following description is from spotify developers page for getting the track's audio features: [link](https://developer.spotify.com/documentation/web-api/reference/#/operations/get-audio-features)"
   ]
  },
  {
   "cell_type": "markdown",
   "id": "3b0804e7",
   "metadata": {},
   "source": [
    "| Feature |Description |\n",
    "| --- | --- |\n",
    "| acousticness |  A confidence measure from 0.0 to 1.0 of whether the track is acoustic. 1.0 represents high confidence the track is acoustic. |\n",
    "| danceability | Danceability describes how suitable a track is for dancing based on a combination of musical elements including tempo, rhythm stability, beat strength, and overall regularity. A value of 0.0 is least danceable and 1.0 is most danceable. |\n",
    "| duration_ms | The track length in milliseconds. |\n",
    "| energy | Energy is a measure from 0.0 to 1.0 and represents a perceptual measure of intensity and activity. Typically, energetic tracks feel fast, loud, and noisy. For example, death metal has high energy, while a Bach prelude scores low on the scale. Perceptual features contributing to this attribute include dynamic range, perceived loudness, timbre, onset rate, and general entropy. |\n",
    "| instrumentalness | Predicts whether a track contains no vocals. \"Ooh\" and \"aah\" sounds are treated as instrumental in this context. Rap or spoken word tracks are clearly \"vocal\". The closer the instrumentalness value is to 1.0, the greater likelihood the track contains no vocal content. Values above 0.5 are intended to represent instrumental tracks, but confidence is higher as the value approaches 1.0. |\n",
    "| key | The key the track is in. Integers map to pitches using standard Pitch Class notation. E.g. 0 = C, 1 = C♯/D♭, 2 = D, and so on. If no key was detected, the value is -1. |\n",
    "| liveness | Detects the presence of an audience in the recording. Higher liveness values represent an increased probability that the track was performed live. A value above 0.8 provides a strong likelihood that the track is live. |\n",
    "| loudness | The overall loudness of a track in decibels (dB). Loudness values are averaged across the entire track and are useful for comparing relative loudness of tracks. Loudness is the quality of a sound that is the primary psychological correlate of physical strength (amplitude). Values typically range between -60 and 0 db. |\n",
    "| mode | Mode indicates the modality (major or minor) of a track, the type of scale from which its melodic content is derived. Major is represented by 1 and minor is 0. |\n",
    "| popularity | The popularity of the artist. The value will be between 0 and 100, with 100 being the most popular. The artist's popularity is calculated from the popularity of all the artist's tracks. |\n",
    "| speechiness | Speechiness detects the presence of spoken words in a track. The more exclusively speech-like the recording (e.g. talk show, audio book, poetry), the closer to 1.0 the attribute value. Values above 0.66 describe tracks that are probably made entirely of spoken words. Values between 0.33 and 0.66 describe tracks that may contain both music and speech, either in sections or layered, including such cases as rap music. Values below 0.33 most likely represent music and other non-speech-like tracks. |\n",
    "| tempo | The overall estimated tempo of a track in beats per minute (BPM). In musical terminology, tempo is the speed or pace of a given piece and derives directly from the average beat duration. |\n",
    "| valence | A measure from 0.0 to 1.0 describing the musical positiveness conveyed by a track. Tracks with high valence sound more positive (e.g. happy, cheerful, euphoric), while tracks with low valence sound more negative (e.g. sad, depressed, angry). |"
   ]
  },
  {
   "cell_type": "markdown",
   "id": "e5422e32",
   "metadata": {},
   "source": [
    "**Features for the data dataset**"
   ]
  },
  {
   "cell_type": "markdown",
   "id": "0d580924",
   "metadata": {},
   "source": [
    "| Feature | Datatype | Description |\n",
    "| --- | --- | --- |\n",
    "| artists | object | A list of artists who performed a given track |\n",
    "| explicit | int | If a song contains curse words, violent, sexual, or offensive language then the song would be explicit, where 0 equals False and 1 equals True.\n",
    "| id | object | The Spotify ID for the track. |\n",
    "| name | object | The name of the track. |\n",
    "| release_date | object | The date the track was first released. |"
   ]
  },
  {
   "cell_type": "markdown",
   "id": "086c4b95",
   "metadata": {},
   "source": [
    "**Features for the data_w_genre dataset**"
   ]
  },
  {
   "cell_type": "markdown",
   "id": "2d762175",
   "metadata": {},
   "source": [
    "| Feature | Datatype | Description |\n",
    "| --- | --- | --- |\n",
    "| artists | object | This contains the name of each artist in the dataset |\n",
    "| genres | object | This contains a list of genres related to the particular artist |"
   ]
  },
  {
   "cell_type": "code",
   "execution_count": 12,
   "id": "c00760a4",
   "metadata": {},
   "outputs": [
    {
     "data": {
      "text/html": [
       "<div>\n",
       "<style scoped>\n",
       "    .dataframe tbody tr th:only-of-type {\n",
       "        vertical-align: middle;\n",
       "    }\n",
       "\n",
       "    .dataframe tbody tr th {\n",
       "        vertical-align: top;\n",
       "    }\n",
       "\n",
       "    .dataframe thead th {\n",
       "        text-align: right;\n",
       "    }\n",
       "</style>\n",
       "<table border=\"1\" class=\"dataframe\">\n",
       "  <thead>\n",
       "    <tr style=\"text-align: right;\">\n",
       "      <th></th>\n",
       "      <th>valence</th>\n",
       "      <th>year</th>\n",
       "      <th>acousticness</th>\n",
       "      <th>danceability</th>\n",
       "      <th>duration_ms</th>\n",
       "      <th>energy</th>\n",
       "      <th>explicit</th>\n",
       "      <th>instrumentalness</th>\n",
       "      <th>key</th>\n",
       "      <th>liveness</th>\n",
       "      <th>loudness</th>\n",
       "      <th>mode</th>\n",
       "      <th>popularity</th>\n",
       "      <th>speechiness</th>\n",
       "      <th>tempo</th>\n",
       "    </tr>\n",
       "  </thead>\n",
       "  <tbody>\n",
       "    <tr>\n",
       "      <th>count</th>\n",
       "      <td>170653.000000</td>\n",
       "      <td>170653.000000</td>\n",
       "      <td>170653.000000</td>\n",
       "      <td>170653.000000</td>\n",
       "      <td>1.706530e+05</td>\n",
       "      <td>170653.000000</td>\n",
       "      <td>170653.000000</td>\n",
       "      <td>170653.000000</td>\n",
       "      <td>170653.000000</td>\n",
       "      <td>170653.000000</td>\n",
       "      <td>170653.000000</td>\n",
       "      <td>170653.000000</td>\n",
       "      <td>170653.000000</td>\n",
       "      <td>170653.000000</td>\n",
       "      <td>170653.000000</td>\n",
       "    </tr>\n",
       "    <tr>\n",
       "      <th>mean</th>\n",
       "      <td>0.528587</td>\n",
       "      <td>1976.787241</td>\n",
       "      <td>0.502115</td>\n",
       "      <td>0.537396</td>\n",
       "      <td>2.309483e+05</td>\n",
       "      <td>0.482389</td>\n",
       "      <td>0.084575</td>\n",
       "      <td>0.167010</td>\n",
       "      <td>5.199844</td>\n",
       "      <td>0.205839</td>\n",
       "      <td>-11.467990</td>\n",
       "      <td>0.706902</td>\n",
       "      <td>31.431794</td>\n",
       "      <td>0.098393</td>\n",
       "      <td>116.861590</td>\n",
       "    </tr>\n",
       "    <tr>\n",
       "      <th>std</th>\n",
       "      <td>0.263171</td>\n",
       "      <td>25.917853</td>\n",
       "      <td>0.376032</td>\n",
       "      <td>0.176138</td>\n",
       "      <td>1.261184e+05</td>\n",
       "      <td>0.267646</td>\n",
       "      <td>0.278249</td>\n",
       "      <td>0.313475</td>\n",
       "      <td>3.515094</td>\n",
       "      <td>0.174805</td>\n",
       "      <td>5.697943</td>\n",
       "      <td>0.455184</td>\n",
       "      <td>21.826615</td>\n",
       "      <td>0.162740</td>\n",
       "      <td>30.708533</td>\n",
       "    </tr>\n",
       "    <tr>\n",
       "      <th>min</th>\n",
       "      <td>0.000000</td>\n",
       "      <td>1921.000000</td>\n",
       "      <td>0.000000</td>\n",
       "      <td>0.000000</td>\n",
       "      <td>5.108000e+03</td>\n",
       "      <td>0.000000</td>\n",
       "      <td>0.000000</td>\n",
       "      <td>0.000000</td>\n",
       "      <td>0.000000</td>\n",
       "      <td>0.000000</td>\n",
       "      <td>-60.000000</td>\n",
       "      <td>0.000000</td>\n",
       "      <td>0.000000</td>\n",
       "      <td>0.000000</td>\n",
       "      <td>0.000000</td>\n",
       "    </tr>\n",
       "    <tr>\n",
       "      <th>25%</th>\n",
       "      <td>0.317000</td>\n",
       "      <td>1956.000000</td>\n",
       "      <td>0.102000</td>\n",
       "      <td>0.415000</td>\n",
       "      <td>1.698270e+05</td>\n",
       "      <td>0.255000</td>\n",
       "      <td>0.000000</td>\n",
       "      <td>0.000000</td>\n",
       "      <td>2.000000</td>\n",
       "      <td>0.098800</td>\n",
       "      <td>-14.615000</td>\n",
       "      <td>0.000000</td>\n",
       "      <td>11.000000</td>\n",
       "      <td>0.034900</td>\n",
       "      <td>93.421000</td>\n",
       "    </tr>\n",
       "    <tr>\n",
       "      <th>50%</th>\n",
       "      <td>0.540000</td>\n",
       "      <td>1977.000000</td>\n",
       "      <td>0.516000</td>\n",
       "      <td>0.548000</td>\n",
       "      <td>2.074670e+05</td>\n",
       "      <td>0.471000</td>\n",
       "      <td>0.000000</td>\n",
       "      <td>0.000216</td>\n",
       "      <td>5.000000</td>\n",
       "      <td>0.136000</td>\n",
       "      <td>-10.580000</td>\n",
       "      <td>1.000000</td>\n",
       "      <td>33.000000</td>\n",
       "      <td>0.045000</td>\n",
       "      <td>114.729000</td>\n",
       "    </tr>\n",
       "    <tr>\n",
       "      <th>75%</th>\n",
       "      <td>0.747000</td>\n",
       "      <td>1999.000000</td>\n",
       "      <td>0.893000</td>\n",
       "      <td>0.668000</td>\n",
       "      <td>2.624000e+05</td>\n",
       "      <td>0.703000</td>\n",
       "      <td>0.000000</td>\n",
       "      <td>0.102000</td>\n",
       "      <td>8.000000</td>\n",
       "      <td>0.261000</td>\n",
       "      <td>-7.183000</td>\n",
       "      <td>1.000000</td>\n",
       "      <td>48.000000</td>\n",
       "      <td>0.075600</td>\n",
       "      <td>135.537000</td>\n",
       "    </tr>\n",
       "    <tr>\n",
       "      <th>max</th>\n",
       "      <td>1.000000</td>\n",
       "      <td>2020.000000</td>\n",
       "      <td>0.996000</td>\n",
       "      <td>0.988000</td>\n",
       "      <td>5.403500e+06</td>\n",
       "      <td>1.000000</td>\n",
       "      <td>1.000000</td>\n",
       "      <td>1.000000</td>\n",
       "      <td>11.000000</td>\n",
       "      <td>1.000000</td>\n",
       "      <td>3.855000</td>\n",
       "      <td>1.000000</td>\n",
       "      <td>100.000000</td>\n",
       "      <td>0.970000</td>\n",
       "      <td>243.507000</td>\n",
       "    </tr>\n",
       "  </tbody>\n",
       "</table>\n",
       "</div>"
      ],
      "text/plain": [
       "             valence           year   acousticness   danceability  \\\n",
       "count  170653.000000  170653.000000  170653.000000  170653.000000   \n",
       "mean        0.528587    1976.787241       0.502115       0.537396   \n",
       "std         0.263171      25.917853       0.376032       0.176138   \n",
       "min         0.000000    1921.000000       0.000000       0.000000   \n",
       "25%         0.317000    1956.000000       0.102000       0.415000   \n",
       "50%         0.540000    1977.000000       0.516000       0.548000   \n",
       "75%         0.747000    1999.000000       0.893000       0.668000   \n",
       "max         1.000000    2020.000000       0.996000       0.988000   \n",
       "\n",
       "        duration_ms         energy       explicit  instrumentalness  \\\n",
       "count  1.706530e+05  170653.000000  170653.000000     170653.000000   \n",
       "mean   2.309483e+05       0.482389       0.084575          0.167010   \n",
       "std    1.261184e+05       0.267646       0.278249          0.313475   \n",
       "min    5.108000e+03       0.000000       0.000000          0.000000   \n",
       "25%    1.698270e+05       0.255000       0.000000          0.000000   \n",
       "50%    2.074670e+05       0.471000       0.000000          0.000216   \n",
       "75%    2.624000e+05       0.703000       0.000000          0.102000   \n",
       "max    5.403500e+06       1.000000       1.000000          1.000000   \n",
       "\n",
       "                 key       liveness       loudness           mode  \\\n",
       "count  170653.000000  170653.000000  170653.000000  170653.000000   \n",
       "mean        5.199844       0.205839     -11.467990       0.706902   \n",
       "std         3.515094       0.174805       5.697943       0.455184   \n",
       "min         0.000000       0.000000     -60.000000       0.000000   \n",
       "25%         2.000000       0.098800     -14.615000       0.000000   \n",
       "50%         5.000000       0.136000     -10.580000       1.000000   \n",
       "75%         8.000000       0.261000      -7.183000       1.000000   \n",
       "max        11.000000       1.000000       3.855000       1.000000   \n",
       "\n",
       "          popularity    speechiness          tempo  \n",
       "count  170653.000000  170653.000000  170653.000000  \n",
       "mean       31.431794       0.098393     116.861590  \n",
       "std        21.826615       0.162740      30.708533  \n",
       "min         0.000000       0.000000       0.000000  \n",
       "25%        11.000000       0.034900      93.421000  \n",
       "50%        33.000000       0.045000     114.729000  \n",
       "75%        48.000000       0.075600     135.537000  \n",
       "max       100.000000       0.970000     243.507000  "
      ]
     },
     "execution_count": 12,
     "metadata": {},
     "output_type": "execute_result"
    }
   ],
   "source": [
    "data.describe()"
   ]
  },
  {
   "cell_type": "code",
   "execution_count": 13,
   "id": "3c11a947",
   "metadata": {
    "scrolled": false
   },
   "outputs": [
    {
     "data": {
      "text/html": [
       "<div>\n",
       "<style scoped>\n",
       "    .dataframe tbody tr th:only-of-type {\n",
       "        vertical-align: middle;\n",
       "    }\n",
       "\n",
       "    .dataframe tbody tr th {\n",
       "        vertical-align: top;\n",
       "    }\n",
       "\n",
       "    .dataframe thead th {\n",
       "        text-align: right;\n",
       "    }\n",
       "</style>\n",
       "<table border=\"1\" class=\"dataframe\">\n",
       "  <thead>\n",
       "    <tr style=\"text-align: right;\">\n",
       "      <th></th>\n",
       "      <th>acousticness</th>\n",
       "      <th>danceability</th>\n",
       "      <th>duration_ms</th>\n",
       "      <th>energy</th>\n",
       "      <th>instrumentalness</th>\n",
       "      <th>liveness</th>\n",
       "      <th>loudness</th>\n",
       "      <th>speechiness</th>\n",
       "      <th>tempo</th>\n",
       "      <th>valence</th>\n",
       "      <th>popularity</th>\n",
       "      <th>key</th>\n",
       "      <th>mode</th>\n",
       "      <th>count</th>\n",
       "    </tr>\n",
       "  </thead>\n",
       "  <tbody>\n",
       "    <tr>\n",
       "      <th>count</th>\n",
       "      <td>28680.000000</td>\n",
       "      <td>28680.000000</td>\n",
       "      <td>2.868000e+04</td>\n",
       "      <td>28680.000000</td>\n",
       "      <td>28680.000000</td>\n",
       "      <td>28680.000000</td>\n",
       "      <td>28680.000000</td>\n",
       "      <td>28680.000000</td>\n",
       "      <td>28680.000000</td>\n",
       "      <td>28680.000000</td>\n",
       "      <td>28680.000000</td>\n",
       "      <td>28680.000000</td>\n",
       "      <td>28680.000000</td>\n",
       "      <td>28680.000000</td>\n",
       "    </tr>\n",
       "    <tr>\n",
       "      <th>mean</th>\n",
       "      <td>0.498373</td>\n",
       "      <td>0.546490</td>\n",
       "      <td>2.388780e+05</td>\n",
       "      <td>0.497488</td>\n",
       "      <td>0.174756</td>\n",
       "      <td>0.202441</td>\n",
       "      <td>-11.140498</td>\n",
       "      <td>0.094014</td>\n",
       "      <td>115.844830</td>\n",
       "      <td>0.512723</td>\n",
       "      <td>34.060945</td>\n",
       "      <td>5.412901</td>\n",
       "      <td>0.759170</td>\n",
       "      <td>13.847211</td>\n",
       "    </tr>\n",
       "    <tr>\n",
       "      <th>std</th>\n",
       "      <td>0.370614</td>\n",
       "      <td>0.176474</td>\n",
       "      <td>1.211318e+05</td>\n",
       "      <td>0.254885</td>\n",
       "      <td>0.298406</td>\n",
       "      <td>0.140884</td>\n",
       "      <td>5.771749</td>\n",
       "      <td>0.111986</td>\n",
       "      <td>25.003834</td>\n",
       "      <td>0.244421</td>\n",
       "      <td>22.376438</td>\n",
       "      <td>3.480552</td>\n",
       "      <td>0.427595</td>\n",
       "      <td>53.372544</td>\n",
       "    </tr>\n",
       "    <tr>\n",
       "      <th>min</th>\n",
       "      <td>0.000000</td>\n",
       "      <td>0.000000</td>\n",
       "      <td>1.879550e+04</td>\n",
       "      <td>0.000000</td>\n",
       "      <td>0.000000</td>\n",
       "      <td>0.000000</td>\n",
       "      <td>-60.000000</td>\n",
       "      <td>0.000000</td>\n",
       "      <td>0.000000</td>\n",
       "      <td>0.000000</td>\n",
       "      <td>0.000000</td>\n",
       "      <td>0.000000</td>\n",
       "      <td>0.000000</td>\n",
       "      <td>1.000000</td>\n",
       "    </tr>\n",
       "    <tr>\n",
       "      <th>25%</th>\n",
       "      <td>0.122296</td>\n",
       "      <td>0.431000</td>\n",
       "      <td>1.823304e+05</td>\n",
       "      <td>0.283568</td>\n",
       "      <td>0.000004</td>\n",
       "      <td>0.110362</td>\n",
       "      <td>-13.972292</td>\n",
       "      <td>0.039200</td>\n",
       "      <td>99.366500</td>\n",
       "      <td>0.329000</td>\n",
       "      <td>12.000000</td>\n",
       "      <td>2.000000</td>\n",
       "      <td>1.000000</td>\n",
       "      <td>2.000000</td>\n",
       "    </tr>\n",
       "    <tr>\n",
       "      <th>50%</th>\n",
       "      <td>0.478458</td>\n",
       "      <td>0.557000</td>\n",
       "      <td>2.186400e+05</td>\n",
       "      <td>0.504000</td>\n",
       "      <td>0.001880</td>\n",
       "      <td>0.161000</td>\n",
       "      <td>-10.088938</td>\n",
       "      <td>0.052200</td>\n",
       "      <td>115.357400</td>\n",
       "      <td>0.523243</td>\n",
       "      <td>39.000000</td>\n",
       "      <td>6.000000</td>\n",
       "      <td>1.000000</td>\n",
       "      <td>3.000000</td>\n",
       "    </tr>\n",
       "    <tr>\n",
       "      <th>75%</th>\n",
       "      <td>0.896000</td>\n",
       "      <td>0.675000</td>\n",
       "      <td>2.684670e+05</td>\n",
       "      <td>0.702783</td>\n",
       "      <td>0.215291</td>\n",
       "      <td>0.247000</td>\n",
       "      <td>-6.889000</td>\n",
       "      <td>0.095300</td>\n",
       "      <td>129.848750</td>\n",
       "      <td>0.703000</td>\n",
       "      <td>51.000000</td>\n",
       "      <td>8.000000</td>\n",
       "      <td>1.000000</td>\n",
       "      <td>8.000000</td>\n",
       "    </tr>\n",
       "    <tr>\n",
       "      <th>max</th>\n",
       "      <td>0.996000</td>\n",
       "      <td>0.986000</td>\n",
       "      <td>5.403500e+06</td>\n",
       "      <td>1.000000</td>\n",
       "      <td>1.000000</td>\n",
       "      <td>0.991000</td>\n",
       "      <td>1.342000</td>\n",
       "      <td>0.964000</td>\n",
       "      <td>217.743000</td>\n",
       "      <td>0.991000</td>\n",
       "      <td>93.000000</td>\n",
       "      <td>11.000000</td>\n",
       "      <td>1.000000</td>\n",
       "      <td>3169.000000</td>\n",
       "    </tr>\n",
       "  </tbody>\n",
       "</table>\n",
       "</div>"
      ],
      "text/plain": [
       "       acousticness  danceability   duration_ms        energy  \\\n",
       "count  28680.000000  28680.000000  2.868000e+04  28680.000000   \n",
       "mean       0.498373      0.546490  2.388780e+05      0.497488   \n",
       "std        0.370614      0.176474  1.211318e+05      0.254885   \n",
       "min        0.000000      0.000000  1.879550e+04      0.000000   \n",
       "25%        0.122296      0.431000  1.823304e+05      0.283568   \n",
       "50%        0.478458      0.557000  2.186400e+05      0.504000   \n",
       "75%        0.896000      0.675000  2.684670e+05      0.702783   \n",
       "max        0.996000      0.986000  5.403500e+06      1.000000   \n",
       "\n",
       "       instrumentalness      liveness      loudness   speechiness  \\\n",
       "count      28680.000000  28680.000000  28680.000000  28680.000000   \n",
       "mean           0.174756      0.202441    -11.140498      0.094014   \n",
       "std            0.298406      0.140884      5.771749      0.111986   \n",
       "min            0.000000      0.000000    -60.000000      0.000000   \n",
       "25%            0.000004      0.110362    -13.972292      0.039200   \n",
       "50%            0.001880      0.161000    -10.088938      0.052200   \n",
       "75%            0.215291      0.247000     -6.889000      0.095300   \n",
       "max            1.000000      0.991000      1.342000      0.964000   \n",
       "\n",
       "              tempo       valence    popularity           key          mode  \\\n",
       "count  28680.000000  28680.000000  28680.000000  28680.000000  28680.000000   \n",
       "mean     115.844830      0.512723     34.060945      5.412901      0.759170   \n",
       "std       25.003834      0.244421     22.376438      3.480552      0.427595   \n",
       "min        0.000000      0.000000      0.000000      0.000000      0.000000   \n",
       "25%       99.366500      0.329000     12.000000      2.000000      1.000000   \n",
       "50%      115.357400      0.523243     39.000000      6.000000      1.000000   \n",
       "75%      129.848750      0.703000     51.000000      8.000000      1.000000   \n",
       "max      217.743000      0.991000     93.000000     11.000000      1.000000   \n",
       "\n",
       "              count  \n",
       "count  28680.000000  \n",
       "mean      13.847211  \n",
       "std       53.372544  \n",
       "min        1.000000  \n",
       "25%        2.000000  \n",
       "50%        3.000000  \n",
       "75%        8.000000  \n",
       "max     3169.000000  "
      ]
     },
     "execution_count": 13,
     "metadata": {},
     "output_type": "execute_result"
    }
   ],
   "source": [
    "data_w_genre.describe()"
   ]
  },
  {
   "cell_type": "markdown",
   "id": "8e176076",
   "metadata": {},
   "source": [
    "# Exploratory Data Analysis"
   ]
  },
  {
   "cell_type": "code",
   "execution_count": 14,
   "id": "aab736ab",
   "metadata": {
    "scrolled": false
   },
   "outputs": [
    {
     "data": {
      "text/plain": [
       "<AxesSubplot:xlabel='year', ylabel='popularity'>"
      ]
     },
     "execution_count": 14,
     "metadata": {},
     "output_type": "execute_result"
    },
    {
     "data": {
      "image/png": "[encoded data removed]",
      "text/plain": [
       "<Figure size 432x288 with 1 Axes>"
      ]
     },
     "metadata": {
      "needs_background": "light"
     },
     "output_type": "display_data"
    }
   ],
   "source": [
    "sns.lineplot(x=data['year'], y=data['popularity'], color = 'blue',linewidth=2.5)"
   ]
  },
  {
   "cell_type": "code",
   "execution_count": 15,
   "id": "0a7b88fb",
   "metadata": {
    "scrolled": false
   },
   "outputs": [
    {
     "data": {
      "text/plain": [
       "<AxesSubplot:xlabel='danceability', ylabel='valence'>"
      ]
     },
     "execution_count": 15,
     "metadata": {},
     "output_type": "execute_result"
    },
    {
     "data": {
      "image/png": "[encoded data removed]",
      "text/plain": [
       "<Figure size 432x288 with 1 Axes>"
      ]
     },
     "metadata": {
      "needs_background": "light"
     },
     "output_type": "display_data"
    }
   ],
   "source": [
    "sns.lineplot(x=data['danceability'], y=data['valence'], color = 'blue',linewidth=2.5)"
   ]
  },
  {
   "cell_type": "code",
   "execution_count": 16,
   "id": "59a9139d",
   "metadata": {},
   "outputs": [
    {
     "data": {
      "text/plain": [
       "Text(0.5, 1.0, 'Comparing the tempo with the top 10 most popular genres')"
      ]
     },
     "execution_count": 16,
     "metadata": {},
     "output_type": "execute_result"
    },
    {
     "data": {
      "image/png": "[encoded data removed]",
      "text/plain": [
       "<Figure size 1152x576 with 1 Axes>"
      ]
     },
     "metadata": {
      "needs_background": "light"
     },
     "output_type": "display_data"
    }
   ],
   "source": [
    "plt.figure(figsize=(16, 8))\n",
    "genres_5 = data_genre.nlargest(5, 'popularity')\n",
    "figure = sns.barplot(data=genres_5, x=\"genres\", y=\"tempo\")\n",
    "figure.set_title('Comparing the tempo with the top 10 most popular genres')"
   ]
  },
  {
   "cell_type": "code",
   "execution_count": 17,
   "id": "55ae6b4e",
   "metadata": {},
   "outputs": [
    {
     "data": {
      "text/plain": [
       "Text(0.5, 1.0, 'Comparing the danceability with the top 10 most popular genres')"
      ]
     },
     "execution_count": 17,
     "metadata": {},
     "output_type": "execute_result"
    },
    {
     "data": {
      "image/png": "[encoded data removed]",
      "text/plain": [
       "<Figure size 1152x576 with 1 Axes>"
      ]
     },
     "metadata": {
      "needs_background": "light"
     },
     "output_type": "display_data"
    }
   ],
   "source": [
    "plt.figure(figsize=(16, 8))\n",
    "genres_5 = data_genre.nlargest(5, 'popularity')\n",
    "figure = sns.barplot(data=genres_5, x=\"genres\", y=\"danceability\")\n",
    "figure.set_title('Comparing the danceability with the top 10 most popular genres')"
   ]
  },
  {
   "cell_type": "code",
   "execution_count": 18,
   "id": "349eb130",
   "metadata": {},
   "outputs": [
    {
     "data": {
      "text/plain": [
       "<AxesSubplot:xlabel='genres', ylabel='loudness'>"
      ]
     },
     "execution_count": 18,
     "metadata": {},
     "output_type": "execute_result"
    },
    {
     "data": {
      "image/png": "[encoded data removed]",
      "text/plain": [
       "<Figure size 1152x576 with 1 Axes>"
      ]
     },
     "metadata": {
      "needs_background": "light"
     },
     "output_type": "display_data"
    }
   ],
   "source": [
    "plt.figure(figsize=(16, 8))\n",
    "genres_5 = data_genre.nlargest(10, 'popularity')\n",
    "sns.barplot(data=genres_5, x=\"genres\", y=\"loudness\")"
   ]
  },
  {
   "cell_type": "code",
   "execution_count": 19,
   "id": "7c91bd10",
   "metadata": {},
   "outputs": [
    {
     "data": {
      "text/plain": [
       "<AxesSubplot:>"
      ]
     },
     "execution_count": 19,
     "metadata": {},
     "output_type": "execute_result"
    },
    {
     "data": {
      "image/png": "[encoded data removed]",
      "text/plain": [
       "<Figure size 1152x576 with 2 Axes>"
      ]
     },
     "metadata": {
      "needs_background": "light"
     },
     "output_type": "display_data"
    }
   ],
   "source": [
    "plt.figure(figsize=(16, 8))\n",
    "sns.heatmap(data=data.corr(),annot=True,cmap='Blues')"
   ]
  },
  {
   "cell_type": "markdown",
   "id": "472e6d48",
   "metadata": {},
   "source": [
    "# Data Preparation"
   ]
  },
  {
   "cell_type": "markdown",
   "id": "5f09ac66",
   "metadata": {},
   "source": [
    "## Checking for missing values"
   ]
  },
  {
   "cell_type": "code",
   "execution_count": 20,
   "id": "7ed4b897",
   "metadata": {},
   "outputs": [
    {
     "data": {
      "text/plain": [
       "False"
      ]
     },
     "execution_count": 20,
     "metadata": {},
     "output_type": "execute_result"
    }
   ],
   "source": [
    "# checking for null values\n",
    "data.isnull().values.any()"
   ]
  },
  {
   "cell_type": "code",
   "execution_count": 21,
   "id": "bf2e662d",
   "metadata": {},
   "outputs": [
    {
     "name": "stdout",
     "output_type": "stream",
     "text": [
      "['artists', 'id', 'name', 'release_date']\n",
      "0\n"
     ]
    }
   ],
   "source": [
    "# lets take a look at the object data types\n",
    "obj_dtypes = list(data.columns[data.dtypes=='object'])\n",
    "print(obj_dtypes)\n",
    "# checking if the lists are actually strings for all elements in the artists feature\n",
    "print(sum([0 for e in data[obj_dtypes[0]] if type(e) == str]))"
   ]
  },
  {
   "cell_type": "code",
   "execution_count": 22,
   "id": "92c7041b",
   "metadata": {},
   "outputs": [
    {
     "data": {
      "text/plain": [
       "False"
      ]
     },
     "execution_count": 22,
     "metadata": {},
     "output_type": "execute_result"
    }
   ],
   "source": [
    "# checking for null values\n",
    "data_w_genre.isnull().values.any()"
   ]
  },
  {
   "cell_type": "markdown",
   "id": "f870e103",
   "metadata": {},
   "source": [
    "### Taking a look at the object data types"
   ]
  },
  {
   "cell_type": "code",
   "execution_count": 23,
   "id": "4d1c85ee",
   "metadata": {},
   "outputs": [
    {
     "name": "stdout",
     "output_type": "stream",
     "text": [
      "0\n",
      "0\n"
     ]
    }
   ],
   "source": [
    "# lets take a look at the object data types\n",
    "obj_dtypes = list(data_w_genre.columns[data_w_genre.dtypes=='object'])\n",
    "\n",
    "# checking if the lists are actually strings for all elements in the column\n",
    "print(sum([0 for e in data_w_genre[obj_dtypes[0]] if type(e) == str]))\n",
    "\n",
    "# checking if the lists are actually strings for all elements in the column\n",
    "print(sum([0 for e in data_w_genre[obj_dtypes[1]] if type(e) == str]))"
   ]
  },
  {
   "cell_type": "markdown",
   "id": "ff236bfd",
   "metadata": {},
   "source": [
    "The list in the column features are actually strings therefore we must convert the string lists to actual lists"
   ]
  },
  {
   "cell_type": "markdown",
   "id": "4116d7a2",
   "metadata": {},
   "source": [
    "heres an example of what the string lists look like:"
   ]
  },
  {
   "cell_type": "code",
   "execution_count": 24,
   "id": "aed507b1",
   "metadata": {},
   "outputs": [
    {
     "data": {
      "text/plain": [
       "\"['Sergei Rachmaninoff', 'James Levine', 'Berliner Philharmoniker']\""
      ]
     },
     "execution_count": 24,
     "metadata": {},
     "output_type": "execute_result"
    }
   ],
   "source": [
    "data['artists'].iloc[0]"
   ]
  },
  {
   "cell_type": "code",
   "execution_count": 25,
   "id": "d874a218",
   "metadata": {},
   "outputs": [
    {
     "data": {
      "text/plain": [
       "\"['show tunes']\""
      ]
     },
     "execution_count": 25,
     "metadata": {},
     "output_type": "execute_result"
    }
   ],
   "source": [
    "data_w_genre['genres'].iloc[0]"
   ]
  },
  {
   "cell_type": "markdown",
   "id": "ae50fe5e",
   "metadata": {},
   "source": [
    "We need to get rid of apostrophes and quotations then split the string of names into a list for both genres names and artist names"
   ]
  },
  {
   "cell_type": "markdown",
   "id": "196307ab",
   "metadata": {},
   "source": [
    "Updating Genres names:"
   ]
  },
  {
   "cell_type": "code",
   "execution_count": 26,
   "id": "56317ed6",
   "metadata": {},
   "outputs": [],
   "source": [
    "data_w_genre['genres_v1'] = data_w_genre['genres'].apply(lambda x: x.strip('][').replace(\"'\", \"\").replace('\"', \"\").split(', '))"
   ]
  },
  {
   "cell_type": "code",
   "execution_count": 27,
   "id": "9bb7c3c4",
   "metadata": {},
   "outputs": [],
   "source": [
    "data_w_genre['genres_v1'] = data_w_genre['genres_v1'].apply(lambda x: [i.replace(\" \", \"_\") for i in x])"
   ]
  },
  {
   "cell_type": "code",
   "execution_count": 28,
   "id": "629492e5",
   "metadata": {},
   "outputs": [
    {
     "data": {
      "text/plain": [
       "\"['emo rap', 'florida rap', 'sad rap', 'underground hip hop', 'vapor trap']\""
      ]
     },
     "execution_count": 28,
     "metadata": {},
     "output_type": "execute_result"
    }
   ],
   "source": [
    "# before as a string list\n",
    "data_w_genre['genres'].iloc[9]"
   ]
  },
  {
   "cell_type": "code",
   "execution_count": 29,
   "id": "9d3dc538",
   "metadata": {},
   "outputs": [
    {
     "data": {
      "text/plain": [
       "['emo_rap', 'florida_rap', 'sad_rap', 'underground_hip_hop', 'vapor_trap']"
      ]
     },
     "execution_count": 29,
     "metadata": {},
     "output_type": "execute_result"
    }
   ],
   "source": [
    "# after as a list\n",
    "data_w_genre['genres_v1'].iloc[9]"
   ]
  },
  {
   "cell_type": "markdown",
   "id": "d360e9da",
   "metadata": {},
   "source": [
    "Updating Artist names"
   ]
  },
  {
   "cell_type": "code",
   "execution_count": 30,
   "id": "e9cd432d",
   "metadata": {},
   "outputs": [],
   "source": [
    "data['artists_v1'] = data['artists'].apply(lambda x: x.strip('][').replace(\"'\", \"\").replace('\"', \"\").split(', '))"
   ]
  },
  {
   "cell_type": "code",
   "execution_count": 31,
   "id": "3b564c02",
   "metadata": {},
   "outputs": [
    {
     "data": {
      "text/plain": [
       "\"['Ermanno Wolf-Ferrari', 'Arturo Toscanini']\""
      ]
     },
     "execution_count": 31,
     "metadata": {},
     "output_type": "execute_result"
    }
   ],
   "source": [
    "# before as a string list\n",
    "data['artists'].iloc[35]"
   ]
  },
  {
   "cell_type": "code",
   "execution_count": 32,
   "id": "9932f5ec",
   "metadata": {},
   "outputs": [
    {
     "data": {
      "text/plain": [
       "['Ermanno Wolf-Ferrari', 'Arturo Toscanini']"
      ]
     },
     "execution_count": 32,
     "metadata": {},
     "output_type": "execute_result"
    }
   ],
   "source": [
    "# after as a list\n",
    "data['artists_v1'].iloc[35]"
   ]
  },
  {
   "cell_type": "markdown",
   "id": "40fd07ef",
   "metadata": {},
   "source": [
    "Checking for duplicate records"
   ]
  },
  {
   "cell_type": "markdown",
   "id": "128eff05",
   "metadata": {},
   "source": [
    "You can notice that the first two songs are exact duplicates."
   ]
  },
  {
   "cell_type": "code",
   "execution_count": 33,
   "id": "364c92da",
   "metadata": {},
   "outputs": [
    {
     "data": {
      "text/html": [
       "<div>\n",
       "<style scoped>\n",
       "    .dataframe tbody tr th:only-of-type {\n",
       "        vertical-align: middle;\n",
       "    }\n",
       "\n",
       "    .dataframe tbody tr th {\n",
       "        vertical-align: top;\n",
       "    }\n",
       "\n",
       "    .dataframe thead th {\n",
       "        text-align: right;\n",
       "    }\n",
       "</style>\n",
       "<table border=\"1\" class=\"dataframe\">\n",
       "  <thead>\n",
       "    <tr style=\"text-align: right;\">\n",
       "      <th></th>\n",
       "      <th>valence</th>\n",
       "      <th>year</th>\n",
       "      <th>acousticness</th>\n",
       "      <th>artists</th>\n",
       "      <th>danceability</th>\n",
       "      <th>duration_ms</th>\n",
       "      <th>energy</th>\n",
       "      <th>explicit</th>\n",
       "      <th>id</th>\n",
       "      <th>instrumentalness</th>\n",
       "      <th>key</th>\n",
       "      <th>liveness</th>\n",
       "      <th>loudness</th>\n",
       "      <th>mode</th>\n",
       "      <th>name</th>\n",
       "      <th>popularity</th>\n",
       "      <th>release_date</th>\n",
       "      <th>speechiness</th>\n",
       "      <th>tempo</th>\n",
       "      <th>artists_v1</th>\n",
       "    </tr>\n",
       "  </thead>\n",
       "  <tbody>\n",
       "    <tr>\n",
       "      <th>19748</th>\n",
       "      <td>0.604</td>\n",
       "      <td>2020</td>\n",
       "      <td>0.53100</td>\n",
       "      <td>['J Balvin', 'Pharrell Williams', 'BIA', 'Sky']</td>\n",
       "      <td>0.689</td>\n",
       "      <td>205600</td>\n",
       "      <td>0.675</td>\n",
       "      <td>0</td>\n",
       "      <td>2iEQYZMYCS8XWlHBRCBzDE</td>\n",
       "      <td>0.000003</td>\n",
       "      <td>0</td>\n",
       "      <td>0.115</td>\n",
       "      <td>-4.281</td>\n",
       "      <td>1</td>\n",
       "      <td>Safari</td>\n",
       "      <td>1</td>\n",
       "      <td>2020-11-20</td>\n",
       "      <td>0.320</td>\n",
       "      <td>180.077</td>\n",
       "      <td>[J Balvin, Pharrell Williams, BIA, Sky]</td>\n",
       "    </tr>\n",
       "    <tr>\n",
       "      <th>19753</th>\n",
       "      <td>0.604</td>\n",
       "      <td>2020</td>\n",
       "      <td>0.53100</td>\n",
       "      <td>['J Balvin', 'Pharrell Williams', 'BIA', 'Sky']</td>\n",
       "      <td>0.689</td>\n",
       "      <td>205600</td>\n",
       "      <td>0.675</td>\n",
       "      <td>0</td>\n",
       "      <td>4j9bUBWorNXVrmT2fppDgv</td>\n",
       "      <td>0.000003</td>\n",
       "      <td>0</td>\n",
       "      <td>0.115</td>\n",
       "      <td>-4.281</td>\n",
       "      <td>1</td>\n",
       "      <td>Safari</td>\n",
       "      <td>1</td>\n",
       "      <td>2020-11-20</td>\n",
       "      <td>0.320</td>\n",
       "      <td>180.077</td>\n",
       "      <td>[J Balvin, Pharrell Williams, BIA, Sky]</td>\n",
       "    </tr>\n",
       "    <tr>\n",
       "      <th>56596</th>\n",
       "      <td>0.604</td>\n",
       "      <td>2016</td>\n",
       "      <td>0.53100</td>\n",
       "      <td>['J Balvin', 'Pharrell Williams', 'BIA', 'Sky']</td>\n",
       "      <td>0.689</td>\n",
       "      <td>205600</td>\n",
       "      <td>0.675</td>\n",
       "      <td>0</td>\n",
       "      <td>456xBIOmLRoLzCvCzZrWge</td>\n",
       "      <td>0.000003</td>\n",
       "      <td>0</td>\n",
       "      <td>0.115</td>\n",
       "      <td>-4.281</td>\n",
       "      <td>1</td>\n",
       "      <td>Safari</td>\n",
       "      <td>69</td>\n",
       "      <td>2016-06-24</td>\n",
       "      <td>0.320</td>\n",
       "      <td>180.065</td>\n",
       "      <td>[J Balvin, Pharrell Williams, BIA, Sky]</td>\n",
       "    </tr>\n",
       "    <tr>\n",
       "      <th>119334</th>\n",
       "      <td>0.657</td>\n",
       "      <td>1992</td>\n",
       "      <td>0.00709</td>\n",
       "      <td>['The Breeders']</td>\n",
       "      <td>0.442</td>\n",
       "      <td>211907</td>\n",
       "      <td>0.709</td>\n",
       "      <td>0</td>\n",
       "      <td>1zktqqlxSFniWdUWGGkjK5</td>\n",
       "      <td>0.409000</td>\n",
       "      <td>1</td>\n",
       "      <td>0.152</td>\n",
       "      <td>-12.476</td>\n",
       "      <td>1</td>\n",
       "      <td>Safari</td>\n",
       "      <td>40</td>\n",
       "      <td>1992-04-06</td>\n",
       "      <td>0.033</td>\n",
       "      <td>114.496</td>\n",
       "      <td>[The Breeders]</td>\n",
       "    </tr>\n",
       "  </tbody>\n",
       "</table>\n",
       "</div>"
      ],
      "text/plain": [
       "        valence  year  acousticness  \\\n",
       "19748     0.604  2020       0.53100   \n",
       "19753     0.604  2020       0.53100   \n",
       "56596     0.604  2016       0.53100   \n",
       "119334    0.657  1992       0.00709   \n",
       "\n",
       "                                                artists  danceability  \\\n",
       "19748   ['J Balvin', 'Pharrell Williams', 'BIA', 'Sky']         0.689   \n",
       "19753   ['J Balvin', 'Pharrell Williams', 'BIA', 'Sky']         0.689   \n",
       "56596   ['J Balvin', 'Pharrell Williams', 'BIA', 'Sky']         0.689   \n",
       "119334                                 ['The Breeders']         0.442   \n",
       "\n",
       "        duration_ms  energy  explicit                      id  \\\n",
       "19748        205600   0.675         0  2iEQYZMYCS8XWlHBRCBzDE   \n",
       "19753        205600   0.675         0  4j9bUBWorNXVrmT2fppDgv   \n",
       "56596        205600   0.675         0  456xBIOmLRoLzCvCzZrWge   \n",
       "119334       211907   0.709         0  1zktqqlxSFniWdUWGGkjK5   \n",
       "\n",
       "        instrumentalness  key  liveness  loudness  mode    name  popularity  \\\n",
       "19748           0.000003    0     0.115    -4.281     1  Safari           1   \n",
       "19753           0.000003    0     0.115    -4.281     1  Safari           1   \n",
       "56596           0.000003    0     0.115    -4.281     1  Safari          69   \n",
       "119334          0.409000    1     0.152   -12.476     1  Safari          40   \n",
       "\n",
       "       release_date  speechiness    tempo  \\\n",
       "19748    2020-11-20        0.320  180.077   \n",
       "19753    2020-11-20        0.320  180.077   \n",
       "56596    2016-06-24        0.320  180.065   \n",
       "119334   1992-04-06        0.033  114.496   \n",
       "\n",
       "                                     artists_v1  \n",
       "19748   [J Balvin, Pharrell Williams, BIA, Sky]  \n",
       "19753   [J Balvin, Pharrell Williams, BIA, Sky]  \n",
       "56596   [J Balvin, Pharrell Williams, BIA, Sky]  \n",
       "119334                           [The Breeders]  "
      ]
     },
     "execution_count": 33,
     "metadata": {},
     "output_type": "execute_result"
    }
   ],
   "source": [
    "data[data['name']=='Safari']"
   ]
  },
  {
   "cell_type": "markdown",
   "id": "ae5f8d30",
   "metadata": {},
   "source": [
    "I need to create my own song id in order to drop duplicates since some of the songs are being added again at different dates even though all of the features remain the same."
   ]
  },
  {
   "cell_type": "code",
   "execution_count": 34,
   "id": "2000c4e6",
   "metadata": {},
   "outputs": [],
   "source": [
    "# creating function for id hash value\n",
    "from hashlib import sha256\n",
    "def generate_id_hash(list_of_elements:list)->str:\n",
    "    list_of_strings = [str(i) for i in list_of_elements]\n",
    "    return sha256(str(\"\".join(list_of_strings)).encode(\"utf-8\")).hexdigest()"
   ]
  },
  {
   "cell_type": "code",
   "execution_count": 35,
   "id": "e351d130",
   "metadata": {},
   "outputs": [],
   "source": [
    "# creating my own song_id by hashing all the values except the original id\n",
    "data['song_id'] = data.apply(lambda row: generate_id_hash(\n",
    "    [row['artists_v1'][0],\n",
    "     row['valence'],\n",
    "     row['acousticness'],\n",
    "     row['danceability'],\n",
    "     row['duration_ms'],\n",
    "     row['energy'],\n",
    "     row['name'],\n",
    "     row['explicit'],\n",
    "     row['instrumentalness'],\n",
    "     row['key'],\n",
    "     row['liveness'],\n",
    "     row['loudness'],\n",
    "     row['mode'],\n",
    "     row['loudness'],\n",
    "     row['popularity'],\n",
    "     row['speechiness'],\n",
    "     row['release_date'],\n",
    "     row['tempo'],\n",
    "     row['year']\n",
    "    ]),axis = 1)"
   ]
  },
  {
   "cell_type": "markdown",
   "id": "aa95c75d",
   "metadata": {},
   "source": [
    "Finding the total amount of duplicates"
   ]
  },
  {
   "cell_type": "code",
   "execution_count": 36,
   "id": "1e4bd532",
   "metadata": {},
   "outputs": [
    {
     "name": "stdout",
     "output_type": "stream",
     "text": [
      "There are a total of 557 duplicate records\n"
     ]
    }
   ],
   "source": [
    "dups = data['song_id'].duplicated().sum()\n",
    "print(f\"There are a total of {dups} duplicate records\")"
   ]
  },
  {
   "cell_type": "code",
   "execution_count": 37,
   "id": "311e2c67",
   "metadata": {},
   "outputs": [],
   "source": [
    "data.drop_duplicates('song_id',inplace = True)"
   ]
  },
  {
   "cell_type": "code",
   "execution_count": 38,
   "id": "e48390de",
   "metadata": {},
   "outputs": [
    {
     "data": {
      "text/html": [
       "<div>\n",
       "<style scoped>\n",
       "    .dataframe tbody tr th:only-of-type {\n",
       "        vertical-align: middle;\n",
       "    }\n",
       "\n",
       "    .dataframe tbody tr th {\n",
       "        vertical-align: top;\n",
       "    }\n",
       "\n",
       "    .dataframe thead th {\n",
       "        text-align: right;\n",
       "    }\n",
       "</style>\n",
       "<table border=\"1\" class=\"dataframe\">\n",
       "  <thead>\n",
       "    <tr style=\"text-align: right;\">\n",
       "      <th></th>\n",
       "      <th>valence</th>\n",
       "      <th>year</th>\n",
       "      <th>acousticness</th>\n",
       "      <th>artists</th>\n",
       "      <th>danceability</th>\n",
       "      <th>duration_ms</th>\n",
       "      <th>energy</th>\n",
       "      <th>explicit</th>\n",
       "      <th>id</th>\n",
       "      <th>instrumentalness</th>\n",
       "      <th>key</th>\n",
       "      <th>liveness</th>\n",
       "      <th>loudness</th>\n",
       "      <th>mode</th>\n",
       "      <th>name</th>\n",
       "      <th>popularity</th>\n",
       "      <th>release_date</th>\n",
       "      <th>speechiness</th>\n",
       "      <th>tempo</th>\n",
       "      <th>artists_v1</th>\n",
       "      <th>song_id</th>\n",
       "    </tr>\n",
       "  </thead>\n",
       "  <tbody>\n",
       "    <tr>\n",
       "      <th>19748</th>\n",
       "      <td>0.604</td>\n",
       "      <td>2020</td>\n",
       "      <td>0.53100</td>\n",
       "      <td>['J Balvin', 'Pharrell Williams', 'BIA', 'Sky']</td>\n",
       "      <td>0.689</td>\n",
       "      <td>205600</td>\n",
       "      <td>0.675</td>\n",
       "      <td>0</td>\n",
       "      <td>2iEQYZMYCS8XWlHBRCBzDE</td>\n",
       "      <td>0.000003</td>\n",
       "      <td>0</td>\n",
       "      <td>0.115</td>\n",
       "      <td>-4.281</td>\n",
       "      <td>1</td>\n",
       "      <td>Safari</td>\n",
       "      <td>1</td>\n",
       "      <td>2020-11-20</td>\n",
       "      <td>0.320</td>\n",
       "      <td>180.077</td>\n",
       "      <td>[J Balvin, Pharrell Williams, BIA, Sky]</td>\n",
       "      <td>95b156d2b7abe60b09322ce764310932bc973620bd466e...</td>\n",
       "    </tr>\n",
       "    <tr>\n",
       "      <th>56596</th>\n",
       "      <td>0.604</td>\n",
       "      <td>2016</td>\n",
       "      <td>0.53100</td>\n",
       "      <td>['J Balvin', 'Pharrell Williams', 'BIA', 'Sky']</td>\n",
       "      <td>0.689</td>\n",
       "      <td>205600</td>\n",
       "      <td>0.675</td>\n",
       "      <td>0</td>\n",
       "      <td>456xBIOmLRoLzCvCzZrWge</td>\n",
       "      <td>0.000003</td>\n",
       "      <td>0</td>\n",
       "      <td>0.115</td>\n",
       "      <td>-4.281</td>\n",
       "      <td>1</td>\n",
       "      <td>Safari</td>\n",
       "      <td>69</td>\n",
       "      <td>2016-06-24</td>\n",
       "      <td>0.320</td>\n",
       "      <td>180.065</td>\n",
       "      <td>[J Balvin, Pharrell Williams, BIA, Sky]</td>\n",
       "      <td>1c69006a939194db282d4d65c6fe69e151db13e9fcd392...</td>\n",
       "    </tr>\n",
       "    <tr>\n",
       "      <th>119334</th>\n",
       "      <td>0.657</td>\n",
       "      <td>1992</td>\n",
       "      <td>0.00709</td>\n",
       "      <td>['The Breeders']</td>\n",
       "      <td>0.442</td>\n",
       "      <td>211907</td>\n",
       "      <td>0.709</td>\n",
       "      <td>0</td>\n",
       "      <td>1zktqqlxSFniWdUWGGkjK5</td>\n",
       "      <td>0.409000</td>\n",
       "      <td>1</td>\n",
       "      <td>0.152</td>\n",
       "      <td>-12.476</td>\n",
       "      <td>1</td>\n",
       "      <td>Safari</td>\n",
       "      <td>40</td>\n",
       "      <td>1992-04-06</td>\n",
       "      <td>0.033</td>\n",
       "      <td>114.496</td>\n",
       "      <td>[The Breeders]</td>\n",
       "      <td>80f602b2c7502ba1e02c8194ab4d6016e89e48d76527ac...</td>\n",
       "    </tr>\n",
       "  </tbody>\n",
       "</table>\n",
       "</div>"
      ],
      "text/plain": [
       "        valence  year  acousticness  \\\n",
       "19748     0.604  2020       0.53100   \n",
       "56596     0.604  2016       0.53100   \n",
       "119334    0.657  1992       0.00709   \n",
       "\n",
       "                                                artists  danceability  \\\n",
       "19748   ['J Balvin', 'Pharrell Williams', 'BIA', 'Sky']         0.689   \n",
       "56596   ['J Balvin', 'Pharrell Williams', 'BIA', 'Sky']         0.689   \n",
       "119334                                 ['The Breeders']         0.442   \n",
       "\n",
       "        duration_ms  energy  explicit                      id  \\\n",
       "19748        205600   0.675         0  2iEQYZMYCS8XWlHBRCBzDE   \n",
       "56596        205600   0.675         0  456xBIOmLRoLzCvCzZrWge   \n",
       "119334       211907   0.709         0  1zktqqlxSFniWdUWGGkjK5   \n",
       "\n",
       "        instrumentalness  key  liveness  loudness  mode    name  popularity  \\\n",
       "19748           0.000003    0     0.115    -4.281     1  Safari           1   \n",
       "56596           0.000003    0     0.115    -4.281     1  Safari          69   \n",
       "119334          0.409000    1     0.152   -12.476     1  Safari          40   \n",
       "\n",
       "       release_date  speechiness    tempo  \\\n",
       "19748    2020-11-20        0.320  180.077   \n",
       "56596    2016-06-24        0.320  180.065   \n",
       "119334   1992-04-06        0.033  114.496   \n",
       "\n",
       "                                     artists_v1  \\\n",
       "19748   [J Balvin, Pharrell Williams, BIA, Sky]   \n",
       "56596   [J Balvin, Pharrell Williams, BIA, Sky]   \n",
       "119334                           [The Breeders]   \n",
       "\n",
       "                                                  song_id  \n",
       "19748   95b156d2b7abe60b09322ce764310932bc973620bd466e...  \n",
       "56596   1c69006a939194db282d4d65c6fe69e151db13e9fcd392...  \n",
       "119334  80f602b2c7502ba1e02c8194ab4d6016e89e48d76527ac...  "
      ]
     },
     "execution_count": 38,
     "metadata": {},
     "output_type": "execute_result"
    }
   ],
   "source": [
    "data[data['name']=='Safari']"
   ]
  },
  {
   "cell_type": "markdown",
   "id": "232ceb55",
   "metadata": {},
   "source": [
    "As you can see there are now 3 records instead of 4 since the duplicated record was deleted."
   ]
  },
  {
   "cell_type": "markdown",
   "id": "b691d45a",
   "metadata": {},
   "source": [
    "## Splitting up list artists to individual artists"
   ]
  },
  {
   "cell_type": "code",
   "execution_count": 39,
   "id": "58e326b4",
   "metadata": {},
   "outputs": [],
   "source": [
    "ind_artists = data[['artists_v1','id']].explode('artists_v1')"
   ]
  },
  {
   "cell_type": "code",
   "execution_count": 40,
   "id": "f8ff1ce3",
   "metadata": {},
   "outputs": [
    {
     "data": {
      "text/html": [
       "<div>\n",
       "<style scoped>\n",
       "    .dataframe tbody tr th:only-of-type {\n",
       "        vertical-align: middle;\n",
       "    }\n",
       "\n",
       "    .dataframe tbody tr th {\n",
       "        vertical-align: top;\n",
       "    }\n",
       "\n",
       "    .dataframe thead th {\n",
       "        text-align: right;\n",
       "    }\n",
       "</style>\n",
       "<table border=\"1\" class=\"dataframe\">\n",
       "  <thead>\n",
       "    <tr style=\"text-align: right;\">\n",
       "      <th></th>\n",
       "      <th>artists_v1</th>\n",
       "      <th>id</th>\n",
       "    </tr>\n",
       "  </thead>\n",
       "  <tbody>\n",
       "    <tr>\n",
       "      <th>14893</th>\n",
       "      <td>112</td>\n",
       "      <td>7jg3Irt0hqnss3HvaPP2D2</td>\n",
       "    </tr>\n",
       "    <tr>\n",
       "      <th>14893</th>\n",
       "      <td>The Notorious B.I.G.</td>\n",
       "      <td>7jg3Irt0hqnss3HvaPP2D2</td>\n",
       "    </tr>\n",
       "  </tbody>\n",
       "</table>\n",
       "</div>"
      ],
      "text/plain": [
       "                 artists_v1                      id\n",
       "14893                   112  7jg3Irt0hqnss3HvaPP2D2\n",
       "14893  The Notorious B.I.G.  7jg3Irt0hqnss3HvaPP2D2"
      ]
     },
     "execution_count": 40,
     "metadata": {},
     "output_type": "execute_result"
    }
   ],
   "source": [
    "ind_artists[ind_artists[\"id\"] == \"7jg3Irt0hqnss3HvaPP2D2\"]"
   ]
  },
  {
   "cell_type": "code",
   "execution_count": 41,
   "id": "232dbd59",
   "metadata": {},
   "outputs": [],
   "source": [
    "artists_merge = ind_artists.merge(data_w_genre, how = 'left', left_on = 'artists_v1',right_on = 'artists')"
   ]
  },
  {
   "cell_type": "markdown",
   "id": "5af4ce05",
   "metadata": {},
   "source": [
    "Check for missing values"
   ]
  },
  {
   "cell_type": "code",
   "execution_count": 42,
   "id": "52bccd5e",
   "metadata": {},
   "outputs": [
    {
     "data": {
      "text/plain": [
       "(4615, 19)"
      ]
     },
     "execution_count": 42,
     "metadata": {},
     "output_type": "execute_result"
    }
   ],
   "source": [
    "artists_merge[artists_merge[\"genres_v1\"].isnull()].shape"
   ]
  },
  {
   "cell_type": "code",
   "execution_count": 43,
   "id": "5e6b8d58",
   "metadata": {},
   "outputs": [],
   "source": [
    "artists_merge_nonnull = artists_merge[~artists_merge[\"genres_v1\"].isnull()]"
   ]
  },
  {
   "cell_type": "code",
   "execution_count": 44,
   "id": "7d9700eb",
   "metadata": {},
   "outputs": [],
   "source": [
    "artists_genres = artists_merge_nonnull.groupby('id')['genres_v1'].apply(list).reset_index()"
   ]
  },
  {
   "cell_type": "code",
   "execution_count": 45,
   "id": "64e939b4",
   "metadata": {},
   "outputs": [],
   "source": [
    "artists_genres['genre_list'] = artists_genres['genres_v1'].apply(lambda x: list(set(list(itertools.chain.from_iterable(x)))))"
   ]
  },
  {
   "cell_type": "code",
   "execution_count": 46,
   "id": "a7dd9066",
   "metadata": {
    "scrolled": true
   },
   "outputs": [
    {
     "data": {
      "text/html": [
       "<div>\n",
       "<style scoped>\n",
       "    .dataframe tbody tr th:only-of-type {\n",
       "        vertical-align: middle;\n",
       "    }\n",
       "\n",
       "    .dataframe tbody tr th {\n",
       "        vertical-align: top;\n",
       "    }\n",
       "\n",
       "    .dataframe thead th {\n",
       "        text-align: right;\n",
       "    }\n",
       "</style>\n",
       "<table border=\"1\" class=\"dataframe\">\n",
       "  <thead>\n",
       "    <tr style=\"text-align: right;\">\n",
       "      <th></th>\n",
       "      <th>id</th>\n",
       "      <th>genres_v1</th>\n",
       "      <th>genre_list</th>\n",
       "    </tr>\n",
       "  </thead>\n",
       "  <tbody>\n",
       "    <tr>\n",
       "      <th>0</th>\n",
       "      <td>000G1xMMuwxNHmwVsBdtj1</td>\n",
       "      <td>[[candy_pop, dance_rock, new_wave, new_wave_po...</td>\n",
       "      <td>[rock, candy_pop, new_wave, dance_rock, perman...</td>\n",
       "    </tr>\n",
       "    <tr>\n",
       "      <th>1</th>\n",
       "      <td>000GyYHG4uWmlXieKLij8u</td>\n",
       "      <td>[[alternative_hip_hop, conscious_hip_hop, minn...</td>\n",
       "      <td>[pop_rap, minnesota_hip_hop, conscious_hip_hop...</td>\n",
       "    </tr>\n",
       "    <tr>\n",
       "      <th>2</th>\n",
       "      <td>000Npgk5e2SgwGaIsN3ztv</td>\n",
       "      <td>[[classic_bollywood, classic_pakistani_pop, fi...</td>\n",
       "      <td>[ghazal, sufi, filmi, classic_bollywood, class...</td>\n",
       "    </tr>\n",
       "    <tr>\n",
       "      <th>3</th>\n",
       "      <td>000jBcNljWTnyjB4YO7ojf</td>\n",
       "      <td>[[]]</td>\n",
       "      <td>[]</td>\n",
       "    </tr>\n",
       "    <tr>\n",
       "      <th>4</th>\n",
       "      <td>000mGrJNc2GAgQdMESdgEc</td>\n",
       "      <td>[[classical, french_romanticism, late_romantic...</td>\n",
       "      <td>[late_romantic_era, french_romanticism, classi...</td>\n",
       "    </tr>\n",
       "  </tbody>\n",
       "</table>\n",
       "</div>"
      ],
      "text/plain": [
       "                       id                                          genres_v1  \\\n",
       "0  000G1xMMuwxNHmwVsBdtj1  [[candy_pop, dance_rock, new_wave, new_wave_po...   \n",
       "1  000GyYHG4uWmlXieKLij8u  [[alternative_hip_hop, conscious_hip_hop, minn...   \n",
       "2  000Npgk5e2SgwGaIsN3ztv  [[classic_bollywood, classic_pakistani_pop, fi...   \n",
       "3  000jBcNljWTnyjB4YO7ojf                                               [[]]   \n",
       "4  000mGrJNc2GAgQdMESdgEc  [[classical, french_romanticism, late_romantic...   \n",
       "\n",
       "                                          genre_list  \n",
       "0  [rock, candy_pop, new_wave, dance_rock, perman...  \n",
       "1  [pop_rap, minnesota_hip_hop, conscious_hip_hop...  \n",
       "2  [ghazal, sufi, filmi, classic_bollywood, class...  \n",
       "3                                                 []  \n",
       "4  [late_romantic_era, french_romanticism, classi...  "
      ]
     },
     "execution_count": 46,
     "metadata": {},
     "output_type": "execute_result"
    }
   ],
   "source": [
    "artists_genres.head()"
   ]
  },
  {
   "cell_type": "code",
   "execution_count": 47,
   "id": "b09d5c2b",
   "metadata": {},
   "outputs": [],
   "source": [
    "data = data.merge(artists_genres[['id','genre_list']], on = 'id',how = 'left')"
   ]
  },
  {
   "cell_type": "markdown",
   "id": "6ea55098",
   "metadata": {},
   "source": [
    "Now we can save the data start with Feature Engineering"
   ]
  },
  {
   "cell_type": "markdown",
   "id": "80636234",
   "metadata": {},
   "source": [
    "Split release dates by year"
   ]
  },
  {
   "cell_type": "code",
   "execution_count": 48,
   "id": "6bb51be4",
   "metadata": {},
   "outputs": [],
   "source": [
    "data['year'] = data['release_date'].apply(lambda x: x.split('-')[0])"
   ]
  },
  {
   "cell_type": "markdown",
   "id": "b45255bd",
   "metadata": {},
   "source": [
    "Since popularity ranges between 0-100, the popularity will be split into 10 groups"
   ]
  },
  {
   "cell_type": "code",
   "execution_count": 49,
   "id": "a9563ada",
   "metadata": {},
   "outputs": [],
   "source": [
    "# splitting popularity\n",
    "data['popularity'] = data['popularity'].apply(lambda x: int(x/10))"
   ]
  },
  {
   "cell_type": "code",
   "execution_count": 50,
   "id": "4b0cac73",
   "metadata": {},
   "outputs": [
    {
     "data": {
      "text/html": [
       "<div>\n",
       "<style scoped>\n",
       "    .dataframe tbody tr th:only-of-type {\n",
       "        vertical-align: middle;\n",
       "    }\n",
       "\n",
       "    .dataframe tbody tr th {\n",
       "        vertical-align: top;\n",
       "    }\n",
       "\n",
       "    .dataframe thead th {\n",
       "        text-align: right;\n",
       "    }\n",
       "</style>\n",
       "<table border=\"1\" class=\"dataframe\">\n",
       "  <thead>\n",
       "    <tr style=\"text-align: right;\">\n",
       "      <th></th>\n",
       "      <th>valence</th>\n",
       "      <th>year</th>\n",
       "      <th>acousticness</th>\n",
       "      <th>artists</th>\n",
       "      <th>danceability</th>\n",
       "      <th>duration_ms</th>\n",
       "      <th>energy</th>\n",
       "      <th>explicit</th>\n",
       "      <th>id</th>\n",
       "      <th>instrumentalness</th>\n",
       "      <th>key</th>\n",
       "      <th>liveness</th>\n",
       "      <th>loudness</th>\n",
       "      <th>mode</th>\n",
       "      <th>name</th>\n",
       "      <th>popularity</th>\n",
       "      <th>release_date</th>\n",
       "      <th>speechiness</th>\n",
       "      <th>tempo</th>\n",
       "      <th>artists_v1</th>\n",
       "      <th>song_id</th>\n",
       "      <th>genre_list</th>\n",
       "    </tr>\n",
       "  </thead>\n",
       "  <tbody>\n",
       "    <tr>\n",
       "      <th>0</th>\n",
       "      <td>0.0594</td>\n",
       "      <td>1921</td>\n",
       "      <td>0.982</td>\n",
       "      <td>['Sergei Rachmaninoff', 'James Levine', 'Berli...</td>\n",
       "      <td>0.279</td>\n",
       "      <td>831667</td>\n",
       "      <td>0.211</td>\n",
       "      <td>0</td>\n",
       "      <td>4BJqT0PrAfrxzMOxytFOIz</td>\n",
       "      <td>0.878000</td>\n",
       "      <td>10</td>\n",
       "      <td>0.665</td>\n",
       "      <td>-20.096</td>\n",
       "      <td>1</td>\n",
       "      <td>Piano Concerto No. 3 in D Minor, Op. 30: III. ...</td>\n",
       "      <td>0</td>\n",
       "      <td>1921</td>\n",
       "      <td>0.0366</td>\n",
       "      <td>80.954</td>\n",
       "      <td>[Sergei Rachmaninoff, James Levine, Berliner P...</td>\n",
       "      <td>67c14749c1e991f87206f704adc1a4de5b9f04198c1eee...</td>\n",
       "      <td>[ukrainian_classical, opera, classical_perform...</td>\n",
       "    </tr>\n",
       "    <tr>\n",
       "      <th>1</th>\n",
       "      <td>0.9630</td>\n",
       "      <td>1921</td>\n",
       "      <td>0.732</td>\n",
       "      <td>['Dennis Day']</td>\n",
       "      <td>0.819</td>\n",
       "      <td>180533</td>\n",
       "      <td>0.341</td>\n",
       "      <td>0</td>\n",
       "      <td>7xPhfUan2yNtyFG0cUWkt8</td>\n",
       "      <td>0.000000</td>\n",
       "      <td>7</td>\n",
       "      <td>0.160</td>\n",
       "      <td>-12.441</td>\n",
       "      <td>1</td>\n",
       "      <td>Clancy Lowered the Boom</td>\n",
       "      <td>0</td>\n",
       "      <td>1921</td>\n",
       "      <td>0.4150</td>\n",
       "      <td>60.936</td>\n",
       "      <td>[Dennis Day]</td>\n",
       "      <td>e8c4c5200effc58c238d2d9e84e21e1440454d4273ef20...</td>\n",
       "      <td>[]</td>\n",
       "    </tr>\n",
       "    <tr>\n",
       "      <th>2</th>\n",
       "      <td>0.0394</td>\n",
       "      <td>1921</td>\n",
       "      <td>0.961</td>\n",
       "      <td>['KHP Kridhamardawa Karaton Ngayogyakarta Hadi...</td>\n",
       "      <td>0.328</td>\n",
       "      <td>500062</td>\n",
       "      <td>0.166</td>\n",
       "      <td>0</td>\n",
       "      <td>1o6I8BglA6ylDMrIELygv1</td>\n",
       "      <td>0.913000</td>\n",
       "      <td>3</td>\n",
       "      <td>0.101</td>\n",
       "      <td>-14.850</td>\n",
       "      <td>1</td>\n",
       "      <td>Gati Bali</td>\n",
       "      <td>0</td>\n",
       "      <td>1921</td>\n",
       "      <td>0.0339</td>\n",
       "      <td>110.339</td>\n",
       "      <td>[KHP Kridhamardawa Karaton Ngayogyakarta Hadin...</td>\n",
       "      <td>b388455a15f89a479b218ea80c9d1777564f53e1936f5a...</td>\n",
       "      <td>[]</td>\n",
       "    </tr>\n",
       "    <tr>\n",
       "      <th>3</th>\n",
       "      <td>0.1650</td>\n",
       "      <td>1921</td>\n",
       "      <td>0.967</td>\n",
       "      <td>['Frank Parker']</td>\n",
       "      <td>0.275</td>\n",
       "      <td>210000</td>\n",
       "      <td>0.309</td>\n",
       "      <td>0</td>\n",
       "      <td>3ftBPsC5vPBKxYSee08FDH</td>\n",
       "      <td>0.000028</td>\n",
       "      <td>5</td>\n",
       "      <td>0.381</td>\n",
       "      <td>-9.316</td>\n",
       "      <td>1</td>\n",
       "      <td>Danny Boy</td>\n",
       "      <td>0</td>\n",
       "      <td>1921</td>\n",
       "      <td>0.0354</td>\n",
       "      <td>100.109</td>\n",
       "      <td>[Frank Parker]</td>\n",
       "      <td>696e4d114c85ed855380a72eedd0c78a8abf0908984c88...</td>\n",
       "      <td>[]</td>\n",
       "    </tr>\n",
       "    <tr>\n",
       "      <th>4</th>\n",
       "      <td>0.2530</td>\n",
       "      <td>1921</td>\n",
       "      <td>0.957</td>\n",
       "      <td>['Phil Regan']</td>\n",
       "      <td>0.418</td>\n",
       "      <td>166693</td>\n",
       "      <td>0.193</td>\n",
       "      <td>0</td>\n",
       "      <td>4d6HGyGT8e121BsdKmw9v6</td>\n",
       "      <td>0.000002</td>\n",
       "      <td>3</td>\n",
       "      <td>0.229</td>\n",
       "      <td>-10.096</td>\n",
       "      <td>1</td>\n",
       "      <td>When Irish Eyes Are Smiling</td>\n",
       "      <td>0</td>\n",
       "      <td>1921</td>\n",
       "      <td>0.0380</td>\n",
       "      <td>101.665</td>\n",
       "      <td>[Phil Regan]</td>\n",
       "      <td>57c19e93daa588d008afc84bc1bef902fca25666c124c9...</td>\n",
       "      <td>[]</td>\n",
       "    </tr>\n",
       "  </tbody>\n",
       "</table>\n",
       "</div>"
      ],
      "text/plain": [
       "   valence  year  acousticness  \\\n",
       "0   0.0594  1921         0.982   \n",
       "1   0.9630  1921         0.732   \n",
       "2   0.0394  1921         0.961   \n",
       "3   0.1650  1921         0.967   \n",
       "4   0.2530  1921         0.957   \n",
       "\n",
       "                                             artists  danceability  \\\n",
       "0  ['Sergei Rachmaninoff', 'James Levine', 'Berli...         0.279   \n",
       "1                                     ['Dennis Day']         0.819   \n",
       "2  ['KHP Kridhamardawa Karaton Ngayogyakarta Hadi...         0.328   \n",
       "3                                   ['Frank Parker']         0.275   \n",
       "4                                     ['Phil Regan']         0.418   \n",
       "\n",
       "   duration_ms  energy  explicit                      id  instrumentalness  \\\n",
       "0       831667   0.211         0  4BJqT0PrAfrxzMOxytFOIz          0.878000   \n",
       "1       180533   0.341         0  7xPhfUan2yNtyFG0cUWkt8          0.000000   \n",
       "2       500062   0.166         0  1o6I8BglA6ylDMrIELygv1          0.913000   \n",
       "3       210000   0.309         0  3ftBPsC5vPBKxYSee08FDH          0.000028   \n",
       "4       166693   0.193         0  4d6HGyGT8e121BsdKmw9v6          0.000002   \n",
       "\n",
       "   key  liveness  loudness  mode  \\\n",
       "0   10     0.665   -20.096     1   \n",
       "1    7     0.160   -12.441     1   \n",
       "2    3     0.101   -14.850     1   \n",
       "3    5     0.381    -9.316     1   \n",
       "4    3     0.229   -10.096     1   \n",
       "\n",
       "                                                name  popularity release_date  \\\n",
       "0  Piano Concerto No. 3 in D Minor, Op. 30: III. ...           0         1921   \n",
       "1                            Clancy Lowered the Boom           0         1921   \n",
       "2                                          Gati Bali           0         1921   \n",
       "3                                          Danny Boy           0         1921   \n",
       "4                        When Irish Eyes Are Smiling           0         1921   \n",
       "\n",
       "   speechiness    tempo                                         artists_v1  \\\n",
       "0       0.0366   80.954  [Sergei Rachmaninoff, James Levine, Berliner P...   \n",
       "1       0.4150   60.936                                       [Dennis Day]   \n",
       "2       0.0339  110.339  [KHP Kridhamardawa Karaton Ngayogyakarta Hadin...   \n",
       "3       0.0354  100.109                                     [Frank Parker]   \n",
       "4       0.0380  101.665                                       [Phil Regan]   \n",
       "\n",
       "                                             song_id  \\\n",
       "0  67c14749c1e991f87206f704adc1a4de5b9f04198c1eee...   \n",
       "1  e8c4c5200effc58c238d2d9e84e21e1440454d4273ef20...   \n",
       "2  b388455a15f89a479b218ea80c9d1777564f53e1936f5a...   \n",
       "3  696e4d114c85ed855380a72eedd0c78a8abf0908984c88...   \n",
       "4  57c19e93daa588d008afc84bc1bef902fca25666c124c9...   \n",
       "\n",
       "                                          genre_list  \n",
       "0  [ukrainian_classical, opera, classical_perform...  \n",
       "1                                                 []  \n",
       "2                                                 []  \n",
       "3                                                 []  \n",
       "4                                                 []  "
      ]
     },
     "execution_count": 50,
     "metadata": {},
     "output_type": "execute_result"
    }
   ],
   "source": [
    "data.head()"
   ]
  },
  {
   "cell_type": "markdown",
   "id": "089c77c9",
   "metadata": {},
   "source": [
    "Drop features that are not needed moving forward"
   ]
  },
  {
   "cell_type": "code",
   "execution_count": 51,
   "id": "275fbb8a",
   "metadata": {},
   "outputs": [],
   "source": [
    "# features list\n",
    "unwanted_features = [\n",
    "    \"duration_ms\",\n",
    "    \"release_date\",\n",
    "    \"artists\",\n",
    "    \"song_id\"\n",
    "    \n",
    "]\n",
    "\n",
    "# getting rid of unwanted features\n",
    "data.drop(unwanted_features, axis = 1, inplace = True)"
   ]
  },
  {
   "cell_type": "code",
   "execution_count": 52,
   "id": "1ea0a178",
   "metadata": {},
   "outputs": [
    {
     "data": {
      "text/html": [
       "<div>\n",
       "<style scoped>\n",
       "    .dataframe tbody tr th:only-of-type {\n",
       "        vertical-align: middle;\n",
       "    }\n",
       "\n",
       "    .dataframe tbody tr th {\n",
       "        vertical-align: top;\n",
       "    }\n",
       "\n",
       "    .dataframe thead th {\n",
       "        text-align: right;\n",
       "    }\n",
       "</style>\n",
       "<table border=\"1\" class=\"dataframe\">\n",
       "  <thead>\n",
       "    <tr style=\"text-align: right;\">\n",
       "      <th></th>\n",
       "      <th>valence</th>\n",
       "      <th>year</th>\n",
       "      <th>acousticness</th>\n",
       "      <th>danceability</th>\n",
       "      <th>energy</th>\n",
       "      <th>explicit</th>\n",
       "      <th>id</th>\n",
       "      <th>instrumentalness</th>\n",
       "      <th>key</th>\n",
       "      <th>liveness</th>\n",
       "      <th>loudness</th>\n",
       "      <th>mode</th>\n",
       "      <th>name</th>\n",
       "      <th>popularity</th>\n",
       "      <th>speechiness</th>\n",
       "      <th>tempo</th>\n",
       "      <th>artists_v1</th>\n",
       "      <th>genre_list</th>\n",
       "    </tr>\n",
       "  </thead>\n",
       "  <tbody>\n",
       "    <tr>\n",
       "      <th>0</th>\n",
       "      <td>0.0594</td>\n",
       "      <td>1921</td>\n",
       "      <td>0.982</td>\n",
       "      <td>0.279</td>\n",
       "      <td>0.211</td>\n",
       "      <td>0</td>\n",
       "      <td>4BJqT0PrAfrxzMOxytFOIz</td>\n",
       "      <td>0.878000</td>\n",
       "      <td>10</td>\n",
       "      <td>0.665</td>\n",
       "      <td>-20.096</td>\n",
       "      <td>1</td>\n",
       "      <td>Piano Concerto No. 3 in D Minor, Op. 30: III. ...</td>\n",
       "      <td>0</td>\n",
       "      <td>0.0366</td>\n",
       "      <td>80.954</td>\n",
       "      <td>[Sergei Rachmaninoff, James Levine, Berliner P...</td>\n",
       "      <td>[ukrainian_classical, opera, classical_perform...</td>\n",
       "    </tr>\n",
       "    <tr>\n",
       "      <th>1</th>\n",
       "      <td>0.9630</td>\n",
       "      <td>1921</td>\n",
       "      <td>0.732</td>\n",
       "      <td>0.819</td>\n",
       "      <td>0.341</td>\n",
       "      <td>0</td>\n",
       "      <td>7xPhfUan2yNtyFG0cUWkt8</td>\n",
       "      <td>0.000000</td>\n",
       "      <td>7</td>\n",
       "      <td>0.160</td>\n",
       "      <td>-12.441</td>\n",
       "      <td>1</td>\n",
       "      <td>Clancy Lowered the Boom</td>\n",
       "      <td>0</td>\n",
       "      <td>0.4150</td>\n",
       "      <td>60.936</td>\n",
       "      <td>[Dennis Day]</td>\n",
       "      <td>[]</td>\n",
       "    </tr>\n",
       "    <tr>\n",
       "      <th>2</th>\n",
       "      <td>0.0394</td>\n",
       "      <td>1921</td>\n",
       "      <td>0.961</td>\n",
       "      <td>0.328</td>\n",
       "      <td>0.166</td>\n",
       "      <td>0</td>\n",
       "      <td>1o6I8BglA6ylDMrIELygv1</td>\n",
       "      <td>0.913000</td>\n",
       "      <td>3</td>\n",
       "      <td>0.101</td>\n",
       "      <td>-14.850</td>\n",
       "      <td>1</td>\n",
       "      <td>Gati Bali</td>\n",
       "      <td>0</td>\n",
       "      <td>0.0339</td>\n",
       "      <td>110.339</td>\n",
       "      <td>[KHP Kridhamardawa Karaton Ngayogyakarta Hadin...</td>\n",
       "      <td>[]</td>\n",
       "    </tr>\n",
       "    <tr>\n",
       "      <th>3</th>\n",
       "      <td>0.1650</td>\n",
       "      <td>1921</td>\n",
       "      <td>0.967</td>\n",
       "      <td>0.275</td>\n",
       "      <td>0.309</td>\n",
       "      <td>0</td>\n",
       "      <td>3ftBPsC5vPBKxYSee08FDH</td>\n",
       "      <td>0.000028</td>\n",
       "      <td>5</td>\n",
       "      <td>0.381</td>\n",
       "      <td>-9.316</td>\n",
       "      <td>1</td>\n",
       "      <td>Danny Boy</td>\n",
       "      <td>0</td>\n",
       "      <td>0.0354</td>\n",
       "      <td>100.109</td>\n",
       "      <td>[Frank Parker]</td>\n",
       "      <td>[]</td>\n",
       "    </tr>\n",
       "    <tr>\n",
       "      <th>4</th>\n",
       "      <td>0.2530</td>\n",
       "      <td>1921</td>\n",
       "      <td>0.957</td>\n",
       "      <td>0.418</td>\n",
       "      <td>0.193</td>\n",
       "      <td>0</td>\n",
       "      <td>4d6HGyGT8e121BsdKmw9v6</td>\n",
       "      <td>0.000002</td>\n",
       "      <td>3</td>\n",
       "      <td>0.229</td>\n",
       "      <td>-10.096</td>\n",
       "      <td>1</td>\n",
       "      <td>When Irish Eyes Are Smiling</td>\n",
       "      <td>0</td>\n",
       "      <td>0.0380</td>\n",
       "      <td>101.665</td>\n",
       "      <td>[Phil Regan]</td>\n",
       "      <td>[]</td>\n",
       "    </tr>\n",
       "  </tbody>\n",
       "</table>\n",
       "</div>"
      ],
      "text/plain": [
       "   valence  year  acousticness  danceability  energy  explicit  \\\n",
       "0   0.0594  1921         0.982         0.279   0.211         0   \n",
       "1   0.9630  1921         0.732         0.819   0.341         0   \n",
       "2   0.0394  1921         0.961         0.328   0.166         0   \n",
       "3   0.1650  1921         0.967         0.275   0.309         0   \n",
       "4   0.2530  1921         0.957         0.418   0.193         0   \n",
       "\n",
       "                       id  instrumentalness  key  liveness  loudness  mode  \\\n",
       "0  4BJqT0PrAfrxzMOxytFOIz          0.878000   10     0.665   -20.096     1   \n",
       "1  7xPhfUan2yNtyFG0cUWkt8          0.000000    7     0.160   -12.441     1   \n",
       "2  1o6I8BglA6ylDMrIELygv1          0.913000    3     0.101   -14.850     1   \n",
       "3  3ftBPsC5vPBKxYSee08FDH          0.000028    5     0.381    -9.316     1   \n",
       "4  4d6HGyGT8e121BsdKmw9v6          0.000002    3     0.229   -10.096     1   \n",
       "\n",
       "                                                name  popularity  speechiness  \\\n",
       "0  Piano Concerto No. 3 in D Minor, Op. 30: III. ...           0       0.0366   \n",
       "1                            Clancy Lowered the Boom           0       0.4150   \n",
       "2                                          Gati Bali           0       0.0339   \n",
       "3                                          Danny Boy           0       0.0354   \n",
       "4                        When Irish Eyes Are Smiling           0       0.0380   \n",
       "\n",
       "     tempo                                         artists_v1  \\\n",
       "0   80.954  [Sergei Rachmaninoff, James Levine, Berliner P...   \n",
       "1   60.936                                       [Dennis Day]   \n",
       "2  110.339  [KHP Kridhamardawa Karaton Ngayogyakarta Hadin...   \n",
       "3  100.109                                     [Frank Parker]   \n",
       "4  101.665                                       [Phil Regan]   \n",
       "\n",
       "                                          genre_list  \n",
       "0  [ukrainian_classical, opera, classical_perform...  \n",
       "1                                                 []  \n",
       "2                                                 []  \n",
       "3                                                 []  \n",
       "4                                                 []  "
      ]
     },
     "execution_count": 52,
     "metadata": {},
     "output_type": "execute_result"
    }
   ],
   "source": [
    "data.head()"
   ]
  },
  {
   "cell_type": "markdown",
   "id": "525ad32b",
   "metadata": {},
   "source": [
    "Saving dataframe"
   ]
  },
  {
   "cell_type": "code",
   "execution_count": 53,
   "id": "27d67e41",
   "metadata": {},
   "outputs": [],
   "source": [
    "# Open a file and use dump()\n",
    "with open('data_prepared.pkl', 'wb') as file:\n",
    "    # A new file will be created\n",
    "    pickle.dump(data, file)"
   ]
  },
  {
   "cell_type": "code",
   "execution_count": 54,
   "id": "70887030",
   "metadata": {
    "scrolled": true
   },
   "outputs": [
    {
     "data": {
      "text/html": [
       "<div>\n",
       "<style scoped>\n",
       "    .dataframe tbody tr th:only-of-type {\n",
       "        vertical-align: middle;\n",
       "    }\n",
       "\n",
       "    .dataframe tbody tr th {\n",
       "        vertical-align: top;\n",
       "    }\n",
       "\n",
       "    .dataframe thead th {\n",
       "        text-align: right;\n",
       "    }\n",
       "</style>\n",
       "<table border=\"1\" class=\"dataframe\">\n",
       "  <thead>\n",
       "    <tr style=\"text-align: right;\">\n",
       "      <th></th>\n",
       "      <th>valence</th>\n",
       "      <th>year</th>\n",
       "      <th>acousticness</th>\n",
       "      <th>danceability</th>\n",
       "      <th>energy</th>\n",
       "      <th>explicit</th>\n",
       "      <th>id</th>\n",
       "      <th>instrumentalness</th>\n",
       "      <th>key</th>\n",
       "      <th>liveness</th>\n",
       "      <th>loudness</th>\n",
       "      <th>mode</th>\n",
       "      <th>name</th>\n",
       "      <th>popularity</th>\n",
       "      <th>speechiness</th>\n",
       "      <th>tempo</th>\n",
       "      <th>artists_v1</th>\n",
       "      <th>genre_list</th>\n",
       "    </tr>\n",
       "  </thead>\n",
       "  <tbody>\n",
       "    <tr>\n",
       "      <th>0</th>\n",
       "      <td>0.0594</td>\n",
       "      <td>1921</td>\n",
       "      <td>0.982</td>\n",
       "      <td>0.279</td>\n",
       "      <td>0.211</td>\n",
       "      <td>0</td>\n",
       "      <td>4BJqT0PrAfrxzMOxytFOIz</td>\n",
       "      <td>0.878000</td>\n",
       "      <td>10</td>\n",
       "      <td>0.665</td>\n",
       "      <td>-20.096</td>\n",
       "      <td>1</td>\n",
       "      <td>Piano Concerto No. 3 in D Minor, Op. 30: III. ...</td>\n",
       "      <td>0</td>\n",
       "      <td>0.0366</td>\n",
       "      <td>80.954</td>\n",
       "      <td>[Sergei Rachmaninoff, James Levine, Berliner P...</td>\n",
       "      <td>[ukrainian_classical, opera, classical_perform...</td>\n",
       "    </tr>\n",
       "    <tr>\n",
       "      <th>1</th>\n",
       "      <td>0.9630</td>\n",
       "      <td>1921</td>\n",
       "      <td>0.732</td>\n",
       "      <td>0.819</td>\n",
       "      <td>0.341</td>\n",
       "      <td>0</td>\n",
       "      <td>7xPhfUan2yNtyFG0cUWkt8</td>\n",
       "      <td>0.000000</td>\n",
       "      <td>7</td>\n",
       "      <td>0.160</td>\n",
       "      <td>-12.441</td>\n",
       "      <td>1</td>\n",
       "      <td>Clancy Lowered the Boom</td>\n",
       "      <td>0</td>\n",
       "      <td>0.4150</td>\n",
       "      <td>60.936</td>\n",
       "      <td>[Dennis Day]</td>\n",
       "      <td>[]</td>\n",
       "    </tr>\n",
       "    <tr>\n",
       "      <th>2</th>\n",
       "      <td>0.0394</td>\n",
       "      <td>1921</td>\n",
       "      <td>0.961</td>\n",
       "      <td>0.328</td>\n",
       "      <td>0.166</td>\n",
       "      <td>0</td>\n",
       "      <td>1o6I8BglA6ylDMrIELygv1</td>\n",
       "      <td>0.913000</td>\n",
       "      <td>3</td>\n",
       "      <td>0.101</td>\n",
       "      <td>-14.850</td>\n",
       "      <td>1</td>\n",
       "      <td>Gati Bali</td>\n",
       "      <td>0</td>\n",
       "      <td>0.0339</td>\n",
       "      <td>110.339</td>\n",
       "      <td>[KHP Kridhamardawa Karaton Ngayogyakarta Hadin...</td>\n",
       "      <td>[]</td>\n",
       "    </tr>\n",
       "    <tr>\n",
       "      <th>3</th>\n",
       "      <td>0.1650</td>\n",
       "      <td>1921</td>\n",
       "      <td>0.967</td>\n",
       "      <td>0.275</td>\n",
       "      <td>0.309</td>\n",
       "      <td>0</td>\n",
       "      <td>3ftBPsC5vPBKxYSee08FDH</td>\n",
       "      <td>0.000028</td>\n",
       "      <td>5</td>\n",
       "      <td>0.381</td>\n",
       "      <td>-9.316</td>\n",
       "      <td>1</td>\n",
       "      <td>Danny Boy</td>\n",
       "      <td>0</td>\n",
       "      <td>0.0354</td>\n",
       "      <td>100.109</td>\n",
       "      <td>[Frank Parker]</td>\n",
       "      <td>[]</td>\n",
       "    </tr>\n",
       "    <tr>\n",
       "      <th>4</th>\n",
       "      <td>0.2530</td>\n",
       "      <td>1921</td>\n",
       "      <td>0.957</td>\n",
       "      <td>0.418</td>\n",
       "      <td>0.193</td>\n",
       "      <td>0</td>\n",
       "      <td>4d6HGyGT8e121BsdKmw9v6</td>\n",
       "      <td>0.000002</td>\n",
       "      <td>3</td>\n",
       "      <td>0.229</td>\n",
       "      <td>-10.096</td>\n",
       "      <td>1</td>\n",
       "      <td>When Irish Eyes Are Smiling</td>\n",
       "      <td>0</td>\n",
       "      <td>0.0380</td>\n",
       "      <td>101.665</td>\n",
       "      <td>[Phil Regan]</td>\n",
       "      <td>[]</td>\n",
       "    </tr>\n",
       "  </tbody>\n",
       "</table>\n",
       "</div>"
      ],
      "text/plain": [
       "   valence  year  acousticness  danceability  energy  explicit  \\\n",
       "0   0.0594  1921         0.982         0.279   0.211         0   \n",
       "1   0.9630  1921         0.732         0.819   0.341         0   \n",
       "2   0.0394  1921         0.961         0.328   0.166         0   \n",
       "3   0.1650  1921         0.967         0.275   0.309         0   \n",
       "4   0.2530  1921         0.957         0.418   0.193         0   \n",
       "\n",
       "                       id  instrumentalness  key  liveness  loudness  mode  \\\n",
       "0  4BJqT0PrAfrxzMOxytFOIz          0.878000   10     0.665   -20.096     1   \n",
       "1  7xPhfUan2yNtyFG0cUWkt8          0.000000    7     0.160   -12.441     1   \n",
       "2  1o6I8BglA6ylDMrIELygv1          0.913000    3     0.101   -14.850     1   \n",
       "3  3ftBPsC5vPBKxYSee08FDH          0.000028    5     0.381    -9.316     1   \n",
       "4  4d6HGyGT8e121BsdKmw9v6          0.000002    3     0.229   -10.096     1   \n",
       "\n",
       "                                                name  popularity  speechiness  \\\n",
       "0  Piano Concerto No. 3 in D Minor, Op. 30: III. ...           0       0.0366   \n",
       "1                            Clancy Lowered the Boom           0       0.4150   \n",
       "2                                          Gati Bali           0       0.0339   \n",
       "3                                          Danny Boy           0       0.0354   \n",
       "4                        When Irish Eyes Are Smiling           0       0.0380   \n",
       "\n",
       "     tempo                                         artists_v1  \\\n",
       "0   80.954  [Sergei Rachmaninoff, James Levine, Berliner P...   \n",
       "1   60.936                                       [Dennis Day]   \n",
       "2  110.339  [KHP Kridhamardawa Karaton Ngayogyakarta Hadin...   \n",
       "3  100.109                                     [Frank Parker]   \n",
       "4  101.665                                       [Phil Regan]   \n",
       "\n",
       "                                          genre_list  \n",
       "0  [ukrainian_classical, opera, classical_perform...  \n",
       "1                                                 []  \n",
       "2                                                 []  \n",
       "3                                                 []  \n",
       "4                                                 []  "
      ]
     },
     "execution_count": 54,
     "metadata": {},
     "output_type": "execute_result"
    }
   ],
   "source": [
    "data.head()"
   ]
  }
 ],
 "metadata": {
  "kernelspec": {
   "display_name": "Python 3 (ipykernel)",
   "language": "python",
   "name": "python3"
  },
  "language_info": {
   "codemirror_mode": {
    "name": "ipython",
    "version": 3
   },
   "file_extension": ".py",
   "mimetype": "text/x-python",
   "name": "python",
   "nbconvert_exporter": "python",
   "pygments_lexer": "ipython3",
   "version": "3.9.7"
  }
 },
 "nbformat": 4,
 "nbformat_minor": 5
}
