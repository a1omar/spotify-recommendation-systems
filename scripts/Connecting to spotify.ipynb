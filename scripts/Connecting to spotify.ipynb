{
 "cells": [
  {
   "cell_type": "markdown",
   "id": "a26322a5",
   "metadata": {},
   "source": [
    "## Dependencies"
   ]
  },
  {
   "cell_type": "code",
   "execution_count": 1,
   "id": "a611ddba",
   "metadata": {},
   "outputs": [],
   "source": [
    "import os\n",
    "import pickle\n",
    "import sys\n",
    "import pandas as pd\n",
    "\n",
    "# spotify \n",
    "import spotipy\n",
    "from spotipy.oauth2 import SpotifyClientCredentials, SpotifyOAuth\n",
    "import spotipy.util as util\n",
    "\n",
    "from dotenv import load_dotenv"
   ]
  },
  {
   "cell_type": "markdown",
   "id": "00c63e3f",
   "metadata": {},
   "source": [
    "Loading dataset"
   ]
  },
  {
   "cell_type": "markdown",
   "id": "1e697135",
   "metadata": {},
   "source": [
    "# Connect to spotify"
   ]
  },
  {
   "cell_type": "markdown",
   "id": "c927998d",
   "metadata": {},
   "source": [
    "Configure environment variable"
   ]
  },
  {
   "cell_type": "code",
   "execution_count": 2,
   "id": "5c631283",
   "metadata": {},
   "outputs": [],
   "source": [
    "# take environment variables from .env.  \n",
    "load_dotenv()\n",
    "\n",
    "# changing current directory to read dataset\n",
    "os.chdir(os.getenv(\"DATASET_PATH\"))"
   ]
  },
  {
   "cell_type": "code",
   "execution_count": 3,
   "id": "aba59d11",
   "metadata": {},
   "outputs": [],
   "source": [
    "# configuring client_id and client_secret\n",
    "client_id = os.environ[\"SPOTIFYREC_CLIENT_ID\"]\n",
    "client_secret= os.environ[\"SPOTIFYREC_CLIENT_SECRET\"]"
   ]
  },
  {
   "cell_type": "markdown",
   "id": "0dc8df76",
   "metadata": {},
   "source": [
    "Setting max columns and rows"
   ]
  },
  {
   "cell_type": "code",
   "execution_count": 4,
   "id": "40b3ad11",
   "metadata": {},
   "outputs": [],
   "source": [
    "pd.set_option('display.max_columns', None)\n",
    "pd.set_option(\"max_rows\", None)"
   ]
  },
  {
   "cell_type": "markdown",
   "id": "8d323e56",
   "metadata": {},
   "source": [
    "Authenticating"
   ]
  },
  {
   "cell_type": "code",
   "execution_count": 5,
   "id": "7da46f11",
   "metadata": {},
   "outputs": [],
   "source": [
    "auth = SpotifyClientCredentials(\n",
    "    client_id=client_id, \n",
    "    client_secret=client_secret\n",
    ")"
   ]
  },
  {
   "cell_type": "markdown",
   "id": "87bf4a24",
   "metadata": {},
   "source": [
    "Creating token"
   ]
  },
  {
   "cell_type": "code",
   "execution_count": 6,
   "id": "b7317b12",
   "metadata": {},
   "outputs": [],
   "source": [
    "token = util.prompt_for_user_token(\n",
    "    'playlist-modify-private', \n",
    "     client_id= client_id, \n",
    "     client_secret=client_secret, \n",
    "     redirect_uri=os.environ[\"SPOTIFY_URI\"]                              \n",
    ")"
   ]
  },
  {
   "cell_type": "code",
   "execution_count": 7,
   "id": "230e7b8b",
   "metadata": {},
   "outputs": [],
   "source": [
    "sp = spotipy.Spotify(auth=token)"
   ]
  },
  {
   "cell_type": "code",
   "execution_count": 8,
   "id": "59166821",
   "metadata": {},
   "outputs": [],
   "source": [
    "# getting user created playlists\n",
    "user_created_playlists = {\n",
    "    i['name']:i['id'] for i in sp.current_user_playlists()['items']\n",
    "}"
   ]
  },
  {
   "cell_type": "code",
   "execution_count": 9,
   "id": "31720ed4",
   "metadata": {},
   "outputs": [
    {
     "data": {
      "text/plain": [
       "{'Beatles enhanced': '6GeZV5v80WsMrjMc3C9bEo',\n",
       " 'Beatles': '6cdgZqKsbzS4D6u1CX8xQi',\n",
       " 'Mix of artists': '0shdRzW2DhDUGViKoOF6px',\n",
       " 'Your Top Songs 2022': '37i9dQZF1F0sijgNaJdgit',\n",
       " 'Arabic': '3KmKRBAbrT1uNs0oamMu1L',\n",
       " 'Vibes': '5TVhAkpfczVXev3mMTWIQM',\n",
       " 'ECN503 - Podcasts for Essay': '7u21UI3Xe97wn6qIiJpl0f'}"
      ]
     },
     "execution_count": 9,
     "metadata": {},
     "output_type": "execute_result"
    }
   ],
   "source": [
    "user_created_playlists"
   ]
  },
  {
   "cell_type": "markdown",
   "id": "db5aeefe",
   "metadata": {},
   "source": [
    "Now we need to create a dataframe with the specified playlist"
   ]
  },
  {
   "cell_type": "code",
   "execution_count": 10,
   "id": "05840f4c",
   "metadata": {},
   "outputs": [],
   "source": [
    "# inputs\n",
    "playlists = ['Beatles','Mix of artists']\n",
    "playlist_id = user_created_playlists\n",
    "\n",
    "# creating lists of date song added, track id, tracks and artists\n",
    "list_of_playlists = []\n",
    "for playlist_name in playlists:\n",
    "    date_added = [i['added_at'] for i in sp.playlist(playlist_id[playlist_name])['tracks']['items']]\n",
    "    track_ids = [i['track']['id'] for i in sp.playlist(playlist_id[playlist_name])['tracks']['items']]\n",
    "    tracks = [i['track']['name'] for i in sp.playlist(playlist_id[playlist_name])['tracks']['items']]\n",
    "    artist_names = [i['track']['artists'][0]['name'] for i in sp.playlist(playlist_id[playlist_name])['tracks']['items']]\n",
    "    \n",
    "    # appending each playlist\n",
    "    list_of_playlists.append(\n",
    "        {\n",
    "       'date_added':date_added,\n",
    "       'track_ids':track_ids,\n",
    "       'tracks':tracks,\n",
    "       'artist_names':artist_names \n",
    "       } \n",
    "    )\n"
   ]
  },
  {
   "cell_type": "code",
   "execution_count": 11,
   "id": "28ca9e2f",
   "metadata": {},
   "outputs": [
    {
     "data": {
      "text/plain": [
       "[{'date_added': ['2022-11-22T00:18:54Z',\n",
       "   '2022-11-22T00:18:57Z',\n",
       "   '2022-11-22T00:20:28Z'],\n",
       "  'track_ids': ['6dGnYIeXmHdcikdzNNDMm2',\n",
       "   '7iN1s7xHE4ifF5povM6A48',\n",
       "   '1eT2CjXwFXNx6oY5ydvzKU'],\n",
       "  'tracks': ['Here Comes The Sun - Remastered 2009',\n",
       "   'Let It Be - Remastered 2009',\n",
       "   'Hey Jude'],\n",
       "  'artist_names': ['The Beatles', 'The Beatles', 'The Beatles']},\n",
       " {'date_added': ['2022-12-03T18:50:18Z',\n",
       "   '2022-12-03T19:35:20Z',\n",
       "   '2022-12-03T19:36:00Z'],\n",
       "  'track_ids': ['7J1uxwnxfQLu4APicE5Rnj',\n",
       "   '4JehYebiI9JE8sR8MisGVb',\n",
       "   '0wwPcA6wtMf6HUMpIRdeP7'],\n",
       "  'tracks': ['Billie Jean', 'Halo', 'Hotline Bling'],\n",
       "  'artist_names': ['Michael Jackson', 'Beyoncé', 'Drake']}]"
      ]
     },
     "execution_count": 11,
     "metadata": {},
     "output_type": "execute_result"
    }
   ],
   "source": [
    "list_of_playlists"
   ]
  },
  {
   "cell_type": "code",
   "execution_count": 12,
   "id": "56f41b95",
   "metadata": {},
   "outputs": [],
   "source": [
    "# putting together dataframe\n",
    "list_of_playists_df = []\n",
    "for playlist in list_of_playlists:\n",
    "    playlist_df = pd.DataFrame(\n",
    "                {\n",
    "                'id': playlist['track_ids'],\n",
    "                'tracks': playlist['tracks'],\n",
    "                'artist_names': playlist['artist_names'],\n",
    "                'date_added': playlist['date_added']\n",
    "                }\n",
    "            )\n",
    "            \n",
    "    \n",
    "    playlist_df['date_added'] = pd.to_datetime(playlist_df['date_added'])  \n",
    "    list_of_playists_df.append(playlist_df)"
   ]
  },
  {
   "cell_type": "markdown",
   "id": "63ecc92c",
   "metadata": {},
   "source": [
    "Saving playlist"
   ]
  },
  {
   "cell_type": "code",
   "execution_count": 13,
   "id": "aabd792d",
   "metadata": {},
   "outputs": [],
   "source": [
    "with open('list_of_playists_df.pkl', 'wb') as file:\n",
    "    pickle.dump(list_of_playists_df, file)"
   ]
  },
  {
   "cell_type": "code",
   "execution_count": 14,
   "id": "9bf8b439",
   "metadata": {},
   "outputs": [
    {
     "data": {
      "text/html": [
       "<div>\n",
       "<style scoped>\n",
       "    .dataframe tbody tr th:only-of-type {\n",
       "        vertical-align: middle;\n",
       "    }\n",
       "\n",
       "    .dataframe tbody tr th {\n",
       "        vertical-align: top;\n",
       "    }\n",
       "\n",
       "    .dataframe thead th {\n",
       "        text-align: right;\n",
       "    }\n",
       "</style>\n",
       "<table border=\"1\" class=\"dataframe\">\n",
       "  <thead>\n",
       "    <tr style=\"text-align: right;\">\n",
       "      <th></th>\n",
       "      <th>id</th>\n",
       "      <th>tracks</th>\n",
       "      <th>artist_names</th>\n",
       "      <th>date_added</th>\n",
       "    </tr>\n",
       "  </thead>\n",
       "  <tbody>\n",
       "    <tr>\n",
       "      <th>0</th>\n",
       "      <td>6dGnYIeXmHdcikdzNNDMm2</td>\n",
       "      <td>Here Comes The Sun - Remastered 2009</td>\n",
       "      <td>The Beatles</td>\n",
       "      <td>2022-11-22 00:18:54+00:00</td>\n",
       "    </tr>\n",
       "    <tr>\n",
       "      <th>1</th>\n",
       "      <td>7iN1s7xHE4ifF5povM6A48</td>\n",
       "      <td>Let It Be - Remastered 2009</td>\n",
       "      <td>The Beatles</td>\n",
       "      <td>2022-11-22 00:18:57+00:00</td>\n",
       "    </tr>\n",
       "    <tr>\n",
       "      <th>2</th>\n",
       "      <td>1eT2CjXwFXNx6oY5ydvzKU</td>\n",
       "      <td>Hey Jude</td>\n",
       "      <td>The Beatles</td>\n",
       "      <td>2022-11-22 00:20:28+00:00</td>\n",
       "    </tr>\n",
       "  </tbody>\n",
       "</table>\n",
       "</div>"
      ],
      "text/plain": [
       "                       id                                tracks artist_names  \\\n",
       "0  6dGnYIeXmHdcikdzNNDMm2  Here Comes The Sun - Remastered 2009  The Beatles   \n",
       "1  7iN1s7xHE4ifF5povM6A48           Let It Be - Remastered 2009  The Beatles   \n",
       "2  1eT2CjXwFXNx6oY5ydvzKU                              Hey Jude  The Beatles   \n",
       "\n",
       "                 date_added  \n",
       "0 2022-11-22 00:18:54+00:00  \n",
       "1 2022-11-22 00:18:57+00:00  \n",
       "2 2022-11-22 00:20:28+00:00  "
      ]
     },
     "metadata": {},
     "output_type": "display_data"
    },
    {
     "data": {
      "text/html": [
       "<div>\n",
       "<style scoped>\n",
       "    .dataframe tbody tr th:only-of-type {\n",
       "        vertical-align: middle;\n",
       "    }\n",
       "\n",
       "    .dataframe tbody tr th {\n",
       "        vertical-align: top;\n",
       "    }\n",
       "\n",
       "    .dataframe thead th {\n",
       "        text-align: right;\n",
       "    }\n",
       "</style>\n",
       "<table border=\"1\" class=\"dataframe\">\n",
       "  <thead>\n",
       "    <tr style=\"text-align: right;\">\n",
       "      <th></th>\n",
       "      <th>id</th>\n",
       "      <th>tracks</th>\n",
       "      <th>artist_names</th>\n",
       "      <th>date_added</th>\n",
       "    </tr>\n",
       "  </thead>\n",
       "  <tbody>\n",
       "    <tr>\n",
       "      <th>0</th>\n",
       "      <td>7J1uxwnxfQLu4APicE5Rnj</td>\n",
       "      <td>Billie Jean</td>\n",
       "      <td>Michael Jackson</td>\n",
       "      <td>2022-12-03 18:50:18+00:00</td>\n",
       "    </tr>\n",
       "    <tr>\n",
       "      <th>1</th>\n",
       "      <td>4JehYebiI9JE8sR8MisGVb</td>\n",
       "      <td>Halo</td>\n",
       "      <td>Beyoncé</td>\n",
       "      <td>2022-12-03 19:35:20+00:00</td>\n",
       "    </tr>\n",
       "    <tr>\n",
       "      <th>2</th>\n",
       "      <td>0wwPcA6wtMf6HUMpIRdeP7</td>\n",
       "      <td>Hotline Bling</td>\n",
       "      <td>Drake</td>\n",
       "      <td>2022-12-03 19:36:00+00:00</td>\n",
       "    </tr>\n",
       "  </tbody>\n",
       "</table>\n",
       "</div>"
      ],
      "text/plain": [
       "                       id         tracks     artist_names  \\\n",
       "0  7J1uxwnxfQLu4APicE5Rnj    Billie Jean  Michael Jackson   \n",
       "1  4JehYebiI9JE8sR8MisGVb           Halo          Beyoncé   \n",
       "2  0wwPcA6wtMf6HUMpIRdeP7  Hotline Bling            Drake   \n",
       "\n",
       "                 date_added  \n",
       "0 2022-12-03 18:50:18+00:00  \n",
       "1 2022-12-03 19:35:20+00:00  \n",
       "2 2022-12-03 19:36:00+00:00  "
      ]
     },
     "metadata": {},
     "output_type": "display_data"
    }
   ],
   "source": [
    "# displaying dataframe\n",
    "for df in list_of_playists_df:\n",
    "    display(df)"
   ]
  }
 ],
 "metadata": {
  "kernelspec": {
   "display_name": "Python 3 (ipykernel)",
   "language": "python",
   "name": "python3"
  },
  "language_info": {
   "codemirror_mode": {
    "name": "ipython",
    "version": 3
   },
   "file_extension": ".py",
   "mimetype": "text/x-python",
   "name": "python",
   "nbconvert_exporter": "python",
   "pygments_lexer": "ipython3",
   "version": "3.9.7"
  }
 },
 "nbformat": 4,
 "nbformat_minor": 5
}
